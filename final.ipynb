{
 "metadata": {
  "name": "Clean Data-Scraping"
 },
 "nbformat": 3,
 "nbformat_minor": 0,
 "worksheets": [
  {
   "cells": [
    {
     "cell_type": "code",
     "collapsed": false,
     "input": "#Script to clean up the given app data, scrap play store and get the relevant app information.\n#17/4/2014\n#hihari777@gmail.com",
     "language": "python",
     "metadata": {},
     "outputs": [],
     "prompt_number": 1
    },
    {
     "cell_type": "code",
     "collapsed": false,
     "input": "#Open File in read mode.\nfile = open(\"/home/rage/Desktop/set_of_comma_seperated_app_names.txt\", \"r\")",
     "language": "python",
     "metadata": {},
     "outputs": [],
     "prompt_number": 2
    },
    {
     "cell_type": "code",
     "collapsed": false,
     "input": "#Reading everything into a string.\nfor apps in file:\n    print apps",
     "language": "python",
     "metadata": {},
     "outputs": [
      {
       "output_type": "stream",
       "stream": "stdout",
       "text": " 'Android Skout New', 'Guess The Emoji - Android', 'ScoreMobile Android', 'Android Skout New', 'Truecaller - Caller ID & Block', 'Indonesia News', 'Truecaller - Caller ID & Block', 'Social Word Game 1 iOS', 'Stupid Zombies 2 Google', 'iOS Skout New', 'iOS Skout New', 'Android Skout New', 'Raging Thunder 2 Ingame', 'Android Skout New', 'Truecaller - Caller ID & Block', 'Android Skout New', 'Android Skout New', 'Better FlashLight HD + LED', 'IM+ Android', 'Android Skout New', 'MangaSearcher', 'Android Skout New', 'Indonesia News', 'iOS Flurv', 'iOS BoyAhoy', 'Kpop Quiz', 'Android BoyAhoy New', 'Truecaller - Caller ID & Block', 'iOS Skout New', 'iOS Skout New', 'Truecaller - Caller ID & Block', 'Truecaller - Caller ID & Block', 'Music Maniac - Mp3 downloader', 'WikiMobile 2', 'FML Android', 'Fragger vertical banner Android Market', 'iOS Skout New', 'Truecaller - Caller ID & Block', 'Dream League Soccer', 'Game 1', 'Raging Thunder 2 Menus', 'Indonesia News', 'Truecaller - Caller ID & Block', 'Raging Thunder Ingame', 'Android Skout New', 'Dream League Soccer', 'Download music', 'iOS Skout', 'Truecaller - Caller ID & Block', 'Android Skout New', 'theScore Mobile', 'Download music', 'Truecaller - Caller ID & Block', 'Indonesia News', 'iOS Skout New', 'iOS Skout New', 'Music Maniac - Mp3 downloader', 'Android Skout New', 'Truecaller - Caller ID & Block', 'Android Skout New', 'Android Skout New', 'Android Battery Saver', 'Aptoide', 'Android Skout New', 'Advanced Music Player', 'Social Word Game 2 Android', 'Android BoyAhoy New', 'Anonymous healthcare_and_fitness App cflw`2B2[h1s`lNzF@sPC1FtaCji:6kTF@', 'Android Skout New', 'Stupid Zombies 2 Google', 'iOS Skout New', 'InfiniteGAG (9GAG)', 'Dream League Soccer', 'Truecaller - Caller ID & Block', 'iOS Skout New', 'ScoreMobile Android', 'Android Skout New', 'Truecaller - Caller ID & Block', 'Indonesia News', '(old) Weather\\xc2\\xb0', 'Truecaller - Caller ID & Block', 'Download music', 'Talkatone - free calls, SMS texting and IM chat (VoIP Google Voice).', 'Android Skout New', 'Truecaller - Caller ID & Block', 'Stupid Zombies 2 Google', 'Dream League Soccer', '(old) Weather\\xc2\\xb0', 'Truecaller - Caller ID & Block', 'Raging Thunder 2 Ingame', 'Truecaller - Caller ID & Block', 'The Moron Test: Old School (Android)', 'Download music', 'Download music', 'Android Skout New', 'Android Skout New', 'Chess.com - Android', 'Truecaller - Caller ID & Block', 'Truecaller - Caller ID & Block', 'iOS BoyAhoy', 'iOS Skout New', 'Draw Something 2 iPhone', 'Camfrog Android Smartphone', 'Advanced Music Player', 'Indonesia News', 'Android Skout New', 'Stupid Zombies 2 Google', 'Truecaller - Caller ID & Block', 'Score! World Goals', 'Music Maniac - Mp3 downloader', 'iOS Skout New', 'Game 1', 'iOS Skout New', 'iOS Skout New', 'Truecaller - Caller ID & Block', 'Dream League Soccer', 'Android Skout New', 'Truecaller - Caller ID & Block', 'Android Skout New', 'Text Me!  - Free SMS, IM, Photo and Video Messenger', 'Truecaller - Caller ID & Block', 'iOS Skout New', 'iOS Skout New', 'Camfrog Android Smartphone', 'Advanced Music Player', 'Truecaller - Caller ID & Block', 'Android Skout New', 'iOS Skout New', 'Anonymous games App cflw`2B2[h1s`lNzF@sPC1FtaCi{6bIUF@', 'Indonesia News', 'MangaSearcher', 'Truecaller - Global Phone Directory', 'Indonesia News', 'Hindi Songs + Bollywood Music Radio - Dhingana Music (free)', 'iOS Skout New', 'Android Skout New', 'Android Skout New', 'Android Skout New', 'iOS Skout New', 'Android Skout New', 'Hindi Songs + Bollywood Music Radio - Dhingana Music (free)', 'Music Maniac - Mp3 downloader', 'Indonesia News', 'FML Android', 'Advanced Music Player', 'Kpop Quiz', 'Truecaller - Caller ID & Block', 'Android Skout New', 'Android Skout New', 'Android Skout New', 'iOS Skout New', 'Camfrog Android Smartphone', 'Music Maniac - Mp3 downloader', '2 Player Reactor', 'Android Skout New', 'Truecaller - Caller ID & Block', 'iOS Skout New', 'Palringo', 'Score! World Goals', 'Truecaller - Caller ID & Block', 'Android Skout New', 'MangaSearcher', 'iOS Skout', 'WikiMobile 2', 'iOS Skout New', 'Android Skout New', 'Score! World Goals', 'Dream League Soccer', 'Malaysia News', 'iOS Skout New', 'Truecaller - Caller ID & Block', 'Android Skout New', 'Palringo', 'Iconmania Ultimate - Android', 'Download music', 'Truecaller - Global Phone Directory', 'Indonesia News', 'Draw Something', 'Truecaller - Caller ID & Block', 'iOS Skout New', 'iOS Skout New', 'Truecaller - Caller ID & Block', 'iOS Skout', 'Download music', 'Indonesia News', 'Android Skout New', 'Badminton', 'Anger of Stick 2', 'Android Skout New', 'iOS Skout New', 'iOS Skout New', 'Android Skout New', 'ooVoo Mobile- Android', 'Truecaller - Caller ID & Block', 'Android Skout New', 'iOS Skout New', 'Truecaller - Caller ID & Block', 'Android Skout New', 'Video Tube Free for YouTube for iPad', 'Indonesia News', 'iOS Skout', 'IM+ Android', 'MangaSearcher', 'Android Skout New', 'Android BoyAhoy New', 'Stupid Zombies 2 Google', 'Android Skout New', 'Truecaller - Caller ID & Block', 'Dream League Soccer', 'theCHIVE iOS', 'Truecaller - Caller ID & Block', 'Dream League Soccer', 'Raging Thunder Menus', 'Android Skout New', 'Quick Manga', 'Advanced Music Player', 'iOS Skout New', 'Jigzle - Flowers and Plants', 'Indonesia News', 'Download music', 'Score! World Goals', 'Funny SMS Tones', 'Truecaller - Caller ID & Block', 'Android SkypeLovers', 'Android Skout New', 'Android Skout New', 'Truecaller - Caller ID & Block', 'Truecaller - Caller ID & Block', 'Stupid Zombies 2 Google', 'MangaSearcher', 'Solitaire', 'Android Skout New', 'Truecaller - Caller ID & Block', 'Rail Rush', 'Draw Something', 'iOS Skout New', 'Android Skout New', 'Android Skout New', 'Dream League Soccer', 'Android Skout New', 'Android Skout New', 'Score! World Goals', 'Android Skout New', 'InfiniteGAG (9GAG)', 'iOS Skout New', 'Android Skout New', 'Palringo Group Messenger', 'Android Skout New', 'Funny Ringtones', 'Android Skout New', 'Truecaller - Caller ID & Block', 'Truecaller - Caller ID & Block', 'Music Maniac - Mp3 downloader', 'Truecaller - Caller ID & Block', 'Dream League Soccer', 'Android Skout New', 'Android Skout New', 'iOS Skout New', 'Truecaller - Caller ID & Block', 'Music Maniac - Mp3 downloader', 'Truecaller - Caller ID & Block', 'Truecaller - Caller ID & Block', 'Android Skout New', 'Android Skout New', 'iOS Skout New', 'Calorie Counter - MyFitnessPal', 'Android Skout New', 'Android Skout New', 'iOS Skout New', 'Truecaller - Caller ID & Block', 'iOS Skout New', 'Android Skout New', 'Truecaller - Caller ID & Block', 'Draw Something', 'Android Skout New', 'Android Skout New', 'iOS Skout New', 'Social Word Game 2 Android', 'Android Skout New', 'Truecaller - Caller ID & Block', 'iOS Skout New', 'iOS Skout New', 'Advanced Music Player', 'Android InstaSize', 'Music Maniac - Mp3 downloader', 'iOS Skout', 'Dream League Soccer', 'iOS Skout New', 'Android Skout New', 'Dream League Soccer', 'Android Skout New', 'Truecaller - Caller ID & Block', 'Truecaller - Caller ID & Block', 'iOS Skout New', 'Android Skout New', 'Android Skout New', 'Truecaller - Caller ID & Block', 'Dream League Soccer', 'Truecaller - Caller ID & Block', 'ooVoo Mobile- Android', 'Radio Apps in Google', 'Dream League Soccer', 'Download music', 'iOS Skout New', 'Truecaller - Caller ID & Block', 'iOS Skout New', 'Truecaller - Caller ID & Block', 'theScore Mobile', 'Android Skout New', 'IM+ Android', 'MangaSearcher', 'Android Skout New', 'Dream League Soccer', 'Android Skout New', 'Dream League Soccer', 'Iconmania Ultimate - Android', 'Android Battery Saver', 'Camfrog Android Smartphone', 'Dream League Soccer', \"Shape'd\", 'Dream League Soccer', 'Android Skout New', 'FML Android', 'Truecaller - Caller ID & Block', 'iOS Skout New', '2 Player Reactor', 'Truecaller - Caller ID & Block', 'iOS Skout', 'Quick Manga', 'theScore Mobile', 'Android Skout New', 'Chess.com - Android', 'PSM Craigslist iPad', 'Dream League Soccer', 'Android Skout New', 'Truecaller - Caller ID & Block', 'Truecaller - Caller ID & Block', 'Aptoide', 'Camfrog Android Smartphone', 'Indonesia News', 'Advanced Music Player', 'Dream League Soccer', 'MangaSearcher', 'Android Skout New', 'iOS Skout New', 'Android Battery Saver', 'Android Skout New', 'Camfrog Android Smartphone', 'MangaSearcher', 'iOS Skout New', 'Download music', 'Android Skout New', 'Gravity Guy menu v1.5.2+', 'Truecaller - Caller ID & Block', 'Android Skout New', 'Android Skout New', 'Palringo', 'Score! World Goals', 'Truecaller - Caller ID & Block', 'MangaSearcher', 'Android InstaSize', 'Android Skout New', 'Music Maniac - Mp3 downloader', 'iOS Skout', 'Game 1', \"Shape'd\", 'Android Skout New', 'Android Skout New', 'Download music', 'Android InstaSize', 'MangaSearcher', 'Indonesia News', 'iOS Skout New', 'Android Skout New', 'Android Skout New', 'Camfrog Android Smartphone', 'Truecaller - Caller ID & Block', 'Truecaller - Caller ID & Block', '(old) Weather\\xc2\\xb0', 'iOS Skout', 'iOS Skout New', 'iOS Skout New', 'Aptoide', 'iOS Skout', '(old) Weather\\xc2\\xb0', 'TextNow Android', 'Dream League Soccer', 'Indonesia News', 'Truecaller - Caller ID & Block', 'Raging Thunder Ingame', 'iOS Skout', 'Android Skout New', 'Android Skout New', 'Truecaller - Caller ID & Block', 'iOS Skout New', 'Truecaller - Caller ID & Block', 'Raging Thunder 2 Ingame', 'Dream League Soccer', 'iOS Skout New', 'iOS Skout New', 'Android Skout New', 'Android Skout New', 'Android Skout New', 'Anonymous healthcare_and_fitness App cflw`2B2[h1s`lNzF@sPC1FtaCji:6kTF@', 'Download music', 'Android InstaSize', 'Download music', 'Download music', 'Android Skout New', 'Android Skout New', 'Truecaller - Caller ID & Block', 'Truecaller - Caller ID & Block', 'Raging Thunder Menus', 'Truecaller - Global Phone Directory', 'Truecaller - Caller ID & Block', 'Calorie Counter - MyFitnessPal', 'Game 12', 'Gravity Guy vertical v1.5.2+', 'Raging Thunder Menus', 'Advanced Music Player', 'Android Skout New', 'MangaSearcher', 'Android InstaSize', 'Truecaller - Caller ID & Block', 'Android Skout New', 'Music Maniac - Mp3 downloader', 'MangaSearcher', 'Truecaller - Caller ID & Block', 'Stupid Zombies 2 Google', 'iOS Skout New', 'Android Skout New', 'WikiMobile 2', 'Truecaller - Caller ID & Block', 'MangaSearcher', 'Android Skout New', 'iOS Skout New', 'Download music', 'Android Skout New', 'iOS Skout New', 'Truecaller - Caller ID & Block', 'Android BoyAhoy New', 'Raging Thunder 2 Ingame', 'Indonesia News', 'Download music', 'Android Skout New', 'Android BoyAhoy New', 'Advanced Music Player', 'Android Skout New', 'Android Skout New', 'iOS Skout New', 'Camfrog Android Smartphone', 'Camfrog Android Smartphone', \"Shape'd\", 'Android Skout New', 'Truecaller - Caller ID & Block', 'Camfrog Android Smartphone', 'InfiniteGAG (9GAG)', 'Download music', 'Truecaller - Global Phone Directory', 'Truecaller - Caller ID & Block', 'Advanced Music Player', 'Android Skout New', 'Indonesia News', 'Game 1', 'Android Skout New', 'ooVoo Mobile- Android', 'Camfrog Android Smartphone', 'Stupid Zombies 2 Google', 'Android Skout New', 'Android Skout New', 'Android Skout New', 'Social Word Game 2 Android', 'iOS Skout New', 'Download music', 'iOS Skout New', 'Truecaller - Caller ID & Block', 'Truecaller - Global Phone Directory', 'Matching Football', 'Download music', 'Dream League Soccer', 'Indonesia News', 'Android Skout New', 'Android Skout New', 'Android Skout New', 'MangaSearcher', 'Android Skout New', 'Kpop Quiz', 'Android Skout New', '(old) Weather\\xc2\\xb0', 'Android Skout New', 'Alarm Clock new', 'Android Skout New', 'Social Word Game 2 Android', 'Camfrog Android Smartphone', 'Android BoyAhoy New', 'Android Skout New', 'Raging Thunder 2 Menus', 'Android Skout New', 'Advanced Music Player', 'Music Maniac - Mp3 downloader', 'Android Skout New', 'Music Maniac - Mp3 downloader', 'Social Word Game 2 iOS', 'Android Skout New', 'Dream League Soccer', 'Android Skout New', 'iOS Flurv', 'Ultimate Control', 'Truecaller - Caller ID & Block', 'Truecaller - Caller ID & Block', 'Music Maniac - Mp3 downloader', 'Raging Thunder Ingame', 'BabyBump Android', 'iOS Skout New', 'Music Maniac - Mp3 downloader', 'Truecaller - Caller ID & Block', 'Android Skout New', 'Download music', 'Android Skout New', 'Camfrog Android Smartphone', 'iOS Skout', 'Indonesia News', 'Android Skout New', 'Camfrog Android Smartphone', 'Game 12', 'iOS Skout New', 'Truecaller - Caller ID & Block', 'iOS Skout New', 'Music Maniac - Mp3 downloader', 'Android InstaSize', 'Truecaller - Caller ID & Block', 'ScoreMobile Android', '(old) Weather\\xc2\\xb0', 'theCHIVE iOS', '(old) Weather\\xc2\\xb0', \"Shape'd\", 'Truecaller - Caller ID & Block', 'Truecaller - Caller ID & Block', 'Truecaller - Caller ID & Block', 'Dream League Soccer', 'Android InstaSize', 'Truecaller - Caller ID & Block', 'Truecaller - Caller ID & Block', 'Palringo', 'Android Skout New', 'Android Skout New', 'Truecaller - Caller ID & Block', 'iOS Skout New', 'Dream League Soccer', 'Anonymous games App cflw`2B2[h1s`lNzF@sPC1FtaCi{6bIUF@', 'iOS BoyAhoy', 'Android Skout New', 'Anger of Stick 2', 'Download music', 'iOS Skout New', 'Truecaller - Global Phone Directory', 'Calorie Counter - MyFitnessPal', 'Android Skout New', 'iOS Skout New', 'iOS Skout New', 'iOS Skout New', 'iOS BoyAhoy', 'MangaSearcher', 'Anonymous games App cflw`2B2[h1s`lNzF@sPC1FtaCi{6bIUF@', 'Truecaller - Caller ID & Block', 'MangaSearcher', 'Truecaller - Caller ID & Block', 'Kpop Quiz', 'Android Skout New', 'Music Maniac - Mp3 downloader', 'Kpop Music Quiz', 'iOS Skout New', 'Truecaller - Caller ID & Block', 'Android Skout New', 'Indonesia News', 'Indonesia News', 'Truecaller - Caller ID & Block', 'Android Skout New', 'Social Word Game 3 Android', 'Advanced Music Player', 'Truecaller - Caller ID & Block', 'iOS Skout New', 'Android Skout New', 'Android Skout New', 'Game 12', 'Devotion', 'Android Skout New', 'Truecaller - Caller ID & Block', 'Truecaller - Caller ID & Block', 'Dream League Soccer', 'Android Skout New', 'Game 12', 'Truecaller - Caller ID & Block', 'Android BoyAhoy New', 'Score! World Goals', 'Truecaller - Caller ID & Block', 'Dream League Soccer', 'Dream League Soccer', 'iOS Skout New', 'Android Skout New', 'Android Skout New', 'iOS Skout New', 'iOS Skout New', 'Dream League Soccer', 'iOS Skout New', \"Shape'd\", 'Raging Thunder 2 Menus', 'Download music', 'iOS Skout New', 'Truecaller - Caller ID & Block', 'Social Matching Game- iOS', 'Trailer Parking Android', 'Dream League Soccer', 'WikiMobile 2', 'Android Skout New', 'Calorie Counter - MyFitnessPal', 'Truecaller - Global Phone Directory', '(old) Weather\\xc2\\xb0', 'Candy and Jewels', 'FML Android', 'Android Skout New', 'Android Skout New', 'Palringo Group Messenger', 'Android Skout New', 'Online Football Manager (Android)', 'Kpop Music Quiz', 'Android Skout New', 'MangaSearcher', 'Raging Thunder Ingame', 'Android Skout New', 'Social Word Game 2 iOS', 'Android Skout New', 'Social Bubble Popper Game 1 Android', 'Troll Face Photo', 'Camfrog Android Smartphone', 'Truecaller - Global Phone Directory', 'iOS Skout New', 'Dream League Soccer', 'Guess The Emoji - Android', \"Shape'd\", 'Android Skout New', 'Android Skout New', 'Android Skout New', 'Truecaller - Global Phone Directory', 'theScore Mobile', 'iOS Skout New', 'Truecaller - Caller ID & Block', 'iOS Skout New', 'Camfrog Android Smartphone', 'Kingdom Coins - Lucky Vegas', 'Parking Frenzy Android', 'iOS Skout New', 'Indonesia News', 'Dream League Soccer', 'iOS BoyAhoy', 'Truecaller - Global Phone Directory', 'Music Maniac - Mp3 downloader', 'Calorie Counter - MyFitnessPal', 'Solitaire', 'Malaysia News', 'Advanced Music Player', 'Raging Thunder 2 Menus', 'Android BoyAhoy New', 'Truecaller - Caller ID & Block', 'Android InstaSize', 'Dream League Soccer', 'Truecaller - Caller ID & Block', 'Truecaller - Caller ID & Block', 'Indonesia News', 'Android Skout New', 'Game 12', 'Android Skout New', 'Indonesia News', 'Download music', 'Camfrog Android Smartphone', 'Indonesia News', 'iOS Skout New', 'Truecaller - Global Phone Directory', 'Android Skout New', 'Truecaller - Caller ID & Block', 'Tiny Battery Widget', '(old) Weather\\xc2\\xb0', 'Funny SMS Tones', 'Android Skout New', 'Dream League Soccer', 'Truecaller - Caller ID & Block', 'Game 25', 'Dream League Soccer', 'Dream League Soccer', 'Indonesia News', 'iOS Skout New', 'iOS Skout New', 'Android Skout New', 'WikiMobile 2', 'Android Skout New', 'iOS Flurv', 'Truecaller - Global Phone Directory', 'Anger of Stick 2', 'Dream League Soccer', 'Android Skout New', 'Calorie Counter - MyFitnessPal', 'Truecaller - Caller ID & Block', 'Android Skout New', 'Music Maniac - Mp3 downloader', 'iOS Skout New', 'Truecaller - Caller ID & Block', 'Android InstaSize', 'Truecaller - Caller ID & Block', 'iOS Skout New', 'iOS Skout', 'iOS Skout New', 'Indonesia News', 'Android Skout New', 'iOS Skout New', 'Wings of Glory', 'Android Skout New', 'Camfrog Android Smartphone', 'ooVoo Mobile- Android', 'Calorie Counter - MyFitnessPal', 'MangaSearcher', 'Indonesia News', 'Android Skout New', 'Truecaller - Caller ID & Block', 'Android Skout New', 'Truecaller - Caller ID & Block', 'Android Skout New', 'iOS Skout New', 'theScore Mobile', 'MangaSearcher', 'Android Skout New', 'Android Battery Saver', 'Android Skout New', 'Candy and Jewels', 'iOS Skout New', 'Android Skout New', 'Android Skout New', 'iOS Skout New', 'Indonesia News', 'Camfrog Android Smartphone', 'Android Skout New', 'Android Skout New', 'Score! World Goals', 'jango radio android', 'Download music', 'iOS Skout', 'Android Skout New', 'iOS Skout New', 'iOS Skout New', 'Android Skout New', 'Android Skout New', 'Indonesia News', 'Android Skout New', 'Truecaller - Caller ID & Block', 'Android Skout New', 'Anger of Stick 2', 'Android Skout New', 'Game 1', 'Truecaller - Global Phone Directory', 'Android Skout New', 'Truecaller - Caller ID & Block', 'IM+ Android', 'Calorie Counter - MyFitnessPal', 'Truecaller - Caller ID & Block', 'Download music', 'Android Skout New', 'Paltalk iOS Banner', 'Raging Thunder 2 Menus', 'Dream League Soccer', 'Ghost Detector 2', 'Android Skout New', 'Android Skout New', 'Truecaller - Caller ID & Block', 'Paltalk Android SmartPhone', 'Music Maniac - Mp3 downloader', 'Dhingana Music - Android', 'Android Skout New', 'Music Maniac - Mp3 downloader', 'Android BoyAhoy New', 'Android Skout New', 'Android Skout New', 'theScore Mobile', 'Camfrog Android Smartphone', 'Android Skout New', 'Funny SMS Tones', 'Social Word Game 2 iOS', 'Truecaller - Caller ID & Block', 'Social Word Game 2 iOS', 'Raging Thunder 2 Ingame', 'Android Skout New', 'iOS Skout New', 'Indonesia News', 'Social Word Game 2 iOS', 'iOS Skout New', 'Dream League Soccer', 'Android Skout New', 'iOS Skout', 'Truecaller - Caller ID & Block', 'iOS Skout', 'Truecaller - Caller ID & Block', 'Game 1', 'Stupid Zombies 2 Google', 'Advanced Music Player', 'iOS Skout New', 'MangaSearcher', 'Android Skout New', 'Android Skout New', 'iOS Skout New', 'Android Skout New', 'Troll Face Photo', 'Android Skout New', 'Dream League Soccer', 'iOS Skout New', 'Dream League Soccer', 'iOS Skout New', 'Social Running Game 1', 'Dream League Soccer', 'Camfrog Android Smartphone', 'iOS Skout New', 'InfiniteGAG (9GAG)', 'Android BoyAhoy New', 'Android Skout New', 'iOS Skout New', 'Truecaller - Caller ID & Block', 'Camfrog Android Smartphone', 'Stupid Zombies 2 Google', 'Android Skout New', 'Truecaller - Caller ID & Block', 'Video Tube Free for YouTube for iPad', 'Android Skout New', 'Music Maniac - Mp3 downloader', 'Camfrog Android Smartphone', 'Android Skout New', 'Paper Glider', 'Indonesia News', 'Truecaller - Caller ID & Block', 'Android Skout New', 'Dream League Soccer', 'Social Word Game 2 Android', \"Shape'd\", 'Android InstaSize', 'Truecaller - Caller ID & Block', 'theScore Mobile', 'Indonesia News', 'iOS Skout New', 'Score! World Goals', 'Dream League Soccer', 'Truecaller - Global Phone Directory', 'iOS Skout', 'Truecaller - Global Phone Directory', 'Truecaller - Caller ID & Block', 'Truecaller - Caller ID & Block', 'Android Skout New', 'Android Skout New', 'Game 3', 'MangaSearcher', 'Raging Thunder 2 Menus', 'Truecaller - Caller ID & Block', 'iOS Skout New', 'Android Skout New', 'Android Skout New', 'Indonesia News', 'IM+ Android', 'Truecaller - Caller ID & Block', 'Android Skout New', 'MangaSearcher', 'Camfrog Android Smartphone', 'Raging Thunder Ingame', 'MangaSearcher', 'Dream League Soccer', 'Camfrog Android Smartphone', 'Truecaller - Caller ID & Block', 'Android Skout New', 'iOS Skout New', 'Android Skout New', 'Android Skout New', 'Android Skout New', 'Camfrog Android Smartphone', 'Indonesia News', 'Download music', 'Android Skout New', 'Android Skout New', 'iOS Skout', 'Android Skout New', 'Indonesia News', 'Listen On Repeat', 'MangaSearcher', 'Android Skout New', 'Social Word Game 2 iOS', 'Truecaller - Caller ID & Block', 'Android Skout New', 'Truecaller - Caller ID & Block', 'Download music', 'Camfrog Android Smartphone', 'Android Skout New', 'Android Skout New', 'Truecaller - Caller ID & Block', 'MangaSearcher', 'Android Skout New', 'Android Skout New', 'Score! World Goals', 'Rail Rush', 'Music Maniac - Mp3 downloader', 'Music Maniac - Mp3 downloader', 'MangaSearcher', 'Android Skout New', 'Dream League Soccer', 'Music Maniac - Mp3 downloader', 'Android Skout New', 'Android Skout New', 'Score! World Goals', 'Download music', 'MangaSearcher', 'Android Skout New', 'Indonesia News', 'iOS Skout New', 'Score! World Goals', 'Android Skout New', 'Malaysia News', 'Online Football Manager (Android)', 'Raging Thunder 2 Ingame', 'iOS Skout', 'Anger of Stick 2', 'Dream League Soccer', 'iOS Skout New', 'Social Word Game 2 Android', 'iOS Skout New', 'iOS Skout New', '(old) Weather\\xc2\\xb0', 'Game 12', 'MangaSearcher', 'iOS Skout New', 'Advanced Music Player', 'Funny SMS Tones', 'Game 1', 'Game 1', 'Game 1', 'Game 1', 'Game 1', 'Android Skout New', 'Android Skout New', 'iOS Skout New', 'iOS Skout New', 'Camfrog Android Smartphone', 'Android Skout New', 'Truecaller - Caller ID & Block', 'Truecaller - Caller ID & Block', 'Score! World Goals', 'Android Skout New', 'Android Skout New', 'Android Skout New', 'Anonymous games App cflw`2B2[h1s`lNzF@sPC1FtaCi{6bIUF@', 'Indonesia News', 'Truecaller - Caller ID & Block', 'iOS Skout New', 'Truecaller - Caller ID & Block', 'Truecaller - Caller ID & Block', 'Truecaller - Caller ID & Block', 'Android Skout New', 'Android Skout New', 'Android InstaSize', 'Android Skout New', 'Indonesia News', 'iOS Skout New', 'Android Skout New', 'Android Battery Saver', 'Truecaller - Caller ID & Block', 'Advanced Music Player', 'iOS Flurv', 'Android Skout New', 'Android Skout New', 'Anonymous healthcare_and_fitness App cflw`2B2[h1s`lNzF@sPC1FtaCji:6kTF@', 'Truecaller - Caller ID & Block', 'theScore iPad edition', 'Hindi Songs + Bollywood Music Radio - Dhingana Music (free)', 'Android Skout New', 'Calorie Counter - MyFitnessPal', 'Download music', 'Truecaller - Caller ID & Block', 'Download music', 'Truecaller - Caller ID & Block', 'Truecaller - Caller ID & Block', 'iOS Skout New', 'Truecaller - Caller ID & Block', 'Advanced Music Player', 'Camfrog Android Smartphone', 'iOS Skout New', 'Android Skout New', 'Troll Face Photo', 'Truecaller - Global Phone Directory', 'Android Skout New', 'Indonesia News', 'Raging Thunder 2 Menus', 'Android Skout New', 'Game 12', 'MangaSearcher', 'iOS Skout New', 'Stupid Zombies 2 Google', 'Truecaller - Caller ID & Block', 'Raging Thunder 2 Ingame', 'Android Skout New', 'iOS Skout New', 'MangaSearcher', 'Camfrog Android Smartphone', 'Palringo', 'MangaSearcher', 'Indonesia News', 'Android Skout New', 'iOS Skout New', 'iOS Skout', 'Truecaller - Global Phone Directory', 'Android Skout New', 'Music Maniac - Mp3 downloader', 'Android Skout New', 'Android Skout New', 'iOS Skout New', 'iOS Skout New', 'MangaSearcher', 'Truecaller - Caller ID & Block', 'iOS Skout New', 'Truecaller - Caller ID & Block', 'MangaSearcher', 'Android Skout New', 'Android Skout New', 'Truecaller - Global Phone Directory', 'Android Skout New', 'Truecaller - Global Phone Directory', 'Android Skout New', 'Dream League Soccer', 'Truecaller - Caller ID & Block', 'Dream League Soccer', 'iOS Skout New', 'MangaSearcher', 'Android Skout New', 'MangaSearcher', 'iOS Skout New', 'Score! World Goals', 'Camfrog Android Smartphone', 'Android Skout New', 'iOS Skout New', 'Aptoide', 'Dream League Soccer', 'Advanced Music Player', 'Calorie Counter - MyFitnessPal', 'Truecaller - Global Phone Directory', 'MoviePop', 'iOS Skout New', 'Game 1', 'iOS Skout New', 'Dream League Soccer', 'MangaSearcher', 'Raging Thunder 2 Ingame', 'Truecaller - Caller ID & Block', 'Truecaller - Caller ID & Block', 'Truecaller - Caller ID & Block', '(old) Weather\\xc2\\xb0', 'Dream League Soccer', 'Social Word Game 2 iOS', 'Android Skout New', 'Raging Thunder 2 Menus', 'Camfrog Android Smartphone', 'Quick Manga', 'Truecaller - Caller ID & Block', 'iOS Skout New', 'Game 12', 'Download music', 'iOS Skout New', 'iOS Skout New', 'iOS Flurv', 'iOS Skout New', 'A_Kingdomtactics', 'Android Skout New', 'SongPop Free', 'iOS Skout New', 'iOS Skout New', 'Truecaller - Caller ID & Block', 'Android Skout New', 'iOS Skout New', 'Advanced Music Player', 'Dream League Soccer', 'Stupid Zombies 2 Google', 'iOS Skout New', 'iOS Skout New', 'Fruit Blitz Free', 'iOS Skout New', 'Truecaller - Caller ID & Block', 'Truecaller - Caller ID & Block', 'Camfrog Android Smartphone', 'Truecaller - Caller ID & Block', 'I Am Awesome', 'Android Skout New', 'Android Skout New', 'Android Skout New', 'Raging Thunder 2 Menus', 'iOS Skout New', 'Android Skout New', 'iOS Skout New', 'iOS Skout New', 'iOS Skout New', 'MangaSearcher', 'Android Skout New', 'iOS Skout New', 'iOS Skout New', 'Android Skout New', 'Camfrog Android Smartphone', 'SongPop Free', 'iOS Skout New', 'iOS Skout New', 'Draw Something 2 iPad', 'Android Skout New', 'Camfrog Android Smartphone', 'Android Battery Saver', 'Truecaller - Caller ID & Block', 'iOS Skout New', 'Android Skout New', 'Draw Something', 'Truecaller - Global Phone Directory', 'Android Skout New', 'MangaSearcher', 'Music Maniac - Mp3 downloader', 'Android Skout New', 'Camfrog Android Smartphone', 'Raging Thunder Ingame', 'Truecaller - Caller ID & Block', 'Fashion House Android', 'Truecaller - Caller ID & Block', 'Troll Face Photo', 'Raging Thunder 2 Ingame', 'Android Skout New', 'ooVoo Mobile- Android', 'MangaSearcher', 'Kpop Quiz', 'Truecaller - Caller ID & Block', 'Advanced Music Player', 'IM+ Android', 'Truecaller - Caller ID & Block', 'iOS Skout New', 'Truecaller - Caller ID & Block', 'Android Skout New', 'Android Skout New', 'Android Skout New', 'Truecaller - Caller ID & Block', 'Raging Thunder 2 Menus', 'Android Skout New', 'Truecaller - Caller ID & Block', 'Dream League Soccer', 'Music Maniac - Mp3 downloader', 'Calorie Counter - MyFitnessPal', 'Android Skout New', 'Game 12', 'Online Football Manager (Android)', 'Truecaller - Caller ID & Block', 'LAZY #1 (Song)', 'Indonesia News', 'Truecaller - Caller ID & Block', 'Anger of Stick 2', 'Download music', 'SongPop Free', 'Android Skout New', 'Indonesia News', 'Android Skout New', 'MangaSearcher', 'Truecaller - Caller ID & Block', 'Truecaller - Caller ID & Block', 'Music Maniac - Mp3 downloader', 'Truecaller - Caller ID & Block', 'Palringo', 'iOS Skout New', 'theCHIVE iOS', 'Kpop Quiz', 'Guess The Emoji - Android', 'Dream League Soccer', 'Android Skout New', 'Truecaller - Caller ID & Block', 'iOS Skout New', 'iOS Skout New', '(old) Weather\\xc2\\xb0', 'Social Word Game 1 iOS', 'Download music', 'Android Skout New', '(old) Weather\\xc2\\xb0', 'Truecaller - Caller ID & Block', 'Download music', 'Android BoyAhoy New', 'IM+ Android', 'Android BoyAhoy New', 'Camfrog Android Smartphone', 'Truecaller - Caller ID & Block', 'Advanced Music Player', 'MangaSearcher', 'Android Skout New', 'Dream League Soccer', 'Music Maniac - Mp3 downloader', 'iOS Skout New', 'iOS Skout New', 'Truecaller - Caller ID & Block', 'MangaSearcher', 'iOS Flurv', 'Game 1', 'Android Skout New', 'Zombie Run HD', 'iOS Flurv', 'Online Football Manager (Android)', 'Online Football Manager (Android)', 'Android Skout New', 'Android Skout New', 'iOS Skout New', 'Dream League Soccer', 'Android Skout New', 'Camfrog Android Smartphone', 'Social Word Game 2 iOS', 'iOS Skout New', 'Android Skout New', 'iOS Skout New', 'Truecaller - Caller ID & Block', 'Android Skout New', 'Music Maniac - Mp3 downloader', 'Android Skout New', 'Android Battery Saver', 'iOS Skout', 'Truecaller - Caller ID & Block', 'Android Skout New', 'Guess The Emoji - Android', 'Truecaller - Caller ID & Block', 'Android Skout New', 'Guess The Emoji - Android', 'Android Skout New', 'Android Skout New', 'Truecaller - Caller ID & Block', 'jango radio android', 'Android Skout New', 'Android Skout New', 'Dream League Soccer', 'Palringo Group Messenger', 'Android Skout New', 'iOS Skout New', 'Music Maniac - Mp3 downloader', 'Android Skout New', 'Truecaller - Caller ID & Block', 'iOS Skout New', 'Raging Thunder Ingame', 'Hindi Songs + Bollywood Music Radio - Dhingana Music (free)', 'iOS Skout New', 'Daily Workouts FREE', 'Raging Thunder Ingame', 'InfiniteGAG (9GAG)', 'Android Skout New', 'Truecaller - Global Phone Directory', 'MangaSearcher', 'Dream League Soccer', 'iOS Skout New', 'Raging Thunder 2 Menus', 'Android Battery Saver', 'iOS Skout New', 'Truecaller - Caller ID & Block', 'Troll Face Photo', 'Truecaller - Global Phone Directory', 'Download Video', 'Android BoyAhoy New', 'iOS Skout New', 'Android Skout New', 'Android Skout New', 'Dream League Soccer', 'Thai News', 'iOS Skout New', 'Android Skout New', 'Raging Thunder 2 Menus', 'Truecaller - Caller ID & Block', 'Android InstaSize', 'Dream League Soccer', 'Score! World Goals', 'Calorie Counter - MyFitnessPal', 'A_Kingdomtactics', 'MangaSearcher', 'Android Skout New', 'Kpop Music Quiz', 'Advanced Music Player', 'Download music', 'Funny Sound Effects Ringtones', 'Camfrog Android Smartphone', 'Truecaller - Caller ID & Block', 'Android Skout New', 'Dream League Soccer', 'Android Skout New', 'Android Skout New', 'Android Skout New', 'MangaSearcher', 'Raging Thunder Ingame', 'Android Skout New', 'Music Maniac - Mp3 downloader', 'iOS Skout', 'Social Word Game 2 iOS', 'Flipps', 'Stupid Zombies 2 Google', 'iOS Skout New', 'Android Skout New', 'Raging Thunder 2 Ingame', 'Android InstaSize', 'iOS Flurv', 'Truecaller - Caller ID & Block', 'Raging Thunder Ingame', 'MangaSearcher', 'Android BoyAhoy New', 'Raging Thunder 2 Menus', 'Indonesia News', 'iOS Skout New', 'Hindi Songs + Bollywood Music Radio - Dhingana Music (free)', 'Android Skout New', '(old) Weather\\xc2\\xb0', 'iOS Skout New', 'Android Skout New', 'Android Skout New', 'Android Skout New', 'MangaSearcher', 'Anonymous healthcare_and_fitness App cflw`2B2[h1s`lNzF@sPC1FtaCji:6kTF@', 'Android Skout New', 'Android Skout New', 'Candy and Jewels', 'Advanced Music Player', 'Android Skout New', 'Android Skout New', 'iOS Skout New', 'Android Skout New', 'Free English Dictionary', 'iOS Skout New', 'iOS Flurv', 'Indonesia News', 'Dream League Soccer', 'Truecaller - Caller ID & Block', 'MangaSearcher', 'iOS Skout New', 'FML Android', 'Android Skout New', 'Download music', 'Android Skout New', 'Android Skout New', 'iOS Skout New', 'Android Skout New', 'ScoreMobile Android', \"Shape'd\", 'Truecaller - Caller ID & Block', 'iOS Skout New', 'Truecaller - Caller ID & Block', 'Android Skout New', 'Social Word Game 2 iOS', 'Android Skout New', 'MangaSearcher', 'Camfrog Android Smartphone', 'Virtual Pet Care', 'Truecaller - Caller ID & Block', 'Truecaller - Caller ID & Block', 'Truecaller - Caller ID & Block', 'Android Skout New', 'Social Word Game 1 iOS', 'Indonesia News', 'Raging Thunder 2 Menus', 'Android Skout New', 'Truecaller - Caller ID & Block', 'iOS Skout', 'Raging Thunder Ingame', 'Social Word Game 2 iOS', 'Advanced Music Player', 'WikiMobile 2', 'Truecaller - Caller ID & Block', 'Advanced Music Player', 'Anger of Stick 2', 'iOS Skout New', 'Truecaller - Global Phone Directory', 'Android Skout New', 'Android Skout New', 'Indonesia News', 'Android Skout New', 'Calorie Counter - MyFitnessPal', 'MangaSearcher', 'MangaSearcher', 'Android Skout New', 'ScoreMobile Android', 'Truecaller - Caller ID & Block', 'Kpop Quiz', 'Android Skout New', 'I Am Awesome', 'MangaSearcher', 'Android Skout New', 'Android Skout New', 'Daily Cardio Workout FREE', 'Android Battery Saver', 'Score! World Goals', 'Advanced Music Player', 'Wordly iPhone', 'Truecaller - Global Phone Directory', 'Android Skout New', 'Hindi Songs + Bollywood Music Radio - Dhingana Music (free)', 'IM+  iPhone', 'Android Skout New', 'Game 3', 'Android Skout New', 'Truecaller - Caller ID & Block', 'Raging Thunder 2 Menus', 'Aptoide', 'Android Skout New', 'Game 1', 'iOS Skout', 'Connect', 'Android Skout New', 'Dream League Soccer', 'Android Skout New', 'iOS Skout New', 'Truecaller - Global Phone Directory', 'Indonesia News', 'Android Skout New', 'Anger of Stick 3', 'Truecaller - Caller ID & Block', 'Truecaller - Global Phone Directory', 'Android Skout New', 'Music Maniac - Mp3 downloader', 'Truecaller - Caller ID & Block', 'Truecaller - Caller ID & Block', 'Music Maniac - Mp3 downloader', 'Score! World Goals', 'Truecaller - Caller ID & Block', 'Raging Thunder 2 Ingame', 'iOS Skout', 'Android Skout New', 'Ghost Detector 2', 'Android Battery Saver', 'Anger of Stick 2', 'Android Skout New', 'Android Skout New', 'Advanced Music Player', 'Truecaller - Caller ID & Block', 'iOS Skout New', 'Indonesia News', '(old) Weather\\xc2\\xb0', 'MangaSearcher', 'Android Skout New', 'iOS Skout New', 'Android Skout New', 'iOS Skout New', 'Social Word Game 2 Android', 'iOS Skout New', 'Truecaller - Caller ID & Block', 'Android Skout New', 'iOS Skout New', '(old) Weather\\xc2\\xb0', 'iOS Skout New', 'Android Skout New', 'Android Skout New', 'Truecaller - Caller ID & Block', 'iOS Skout New', 'Android Skout New', 'Indonesia News', 'Android Skout New', 'Truecaller - Caller ID & Block', 'Mountain Moto 2 : Down Hill', 'Online Football Manager (Android)', 'Truecaller - Caller ID & Block', 'MangaSearcher', 'Game 12', 'iOS Skout New', 'Android Skout New', 'Truecaller - Caller ID & Block', 'Android Skout New', 'Advanced Music Player', 'Android InstaSize', 'Android Skout New', 'iOS Skout New', 'Draw Something', 'iOS Skout', 'Mobario', 'BPILL101 - Manga Pop', 'Android Skout New', 'Truecaller - Caller ID & Block', 'FML Android', 'Android Skout New', 'FML Android', 'Hindi Songs + Bollywood Music Radio - Dhingana Music (free)', 'iOS Skout', 'Camfrog Android Smartphone', 'Score! World Goals', 'MangaSearcher', 'iOS Skout New', 'Android Skout New', 'Download music', 'Android Skout New', 'iOS Skout New', 'Truecaller - Caller ID & Block', 'Android Skout New', 'iOS Skout New', 'Palringo', 'iOS Skout New', 'Badminton', 'Raging Thunder 2 Menus', 'Music Maniac - Mp3 downloader', 'iOS Skout New', 'Android Skout New', 'Camfrog Android Smartphone', 'iOS Skout New', 'iOS Skout New', 'Camfrog Android Smartphone', 'iOS Skout New', 'Android Skout New', 'Android Skout New', 'Android Skout New', 'Android Skout New', 'Score! World Goals', 'Android Skout New', 'Indonesia News', 'Raging Thunder 2 Menus', 'Dream League Soccer', 'Raging Thunder 2 Ingame', 'Dream League Soccer', 'SongPop Free', 'Truecaller - Caller ID & Block', '(old) Weather\\xc2\\xb0', 'iOS Skout New', 'Social Running Game 1', 'Truecaller - Caller ID & Block', 'Android Skout New', \"Shape'd\", 'iOS Skout', 'iOS Skout New', 'Chess.com - Android', 'Truecaller - Caller ID & Block', 'iOS Skout New', 'Camfrog Android Smartphone', 'Android BoyAhoy New', 'Android Skout New', 'iOS Skout New', 'iOS Skout New', 'Truecaller - Caller ID & Block', 'Dream League Soccer', 'Truecaller - Caller ID & Block', 'theScore Mobile', 'Score! World Goals', 'Android Skout New', 'Indonesia News', 'Truecaller - Global Phone Directory', 'Truecaller - Global Phone Directory', 'Truecaller - Caller ID & Block', 'iOS Skout New', 'Android Skout New', 'Android Skout New', 'Dream League Soccer', 'Download music', 'WikiMobile 2', 'Music Maniac - Mp3 downloader', 'iOS Skout New', 'Android Skout New', '(old) Weather\\xc2\\xb0', 'iOS Skout', 'iOS Skout New', 'Android Skout New', 'Android Skout New', 'iOS Skout New', 'iOS Skout New', 'Rail Rush', 'Download music', 'Text Me! - Free Texting', 'MangaSearcher', 'Truecaller - Caller ID & Block', 'Android Skout New', 'Truecaller - Caller ID & Block', 'Android Skout New', 'Android Skout New', 'Truecaller - Caller ID & Block', 'theScore Mobile', 'Camfrog Android Smartphone', 'iOS Skout New', 'Android InstaSize', 'Download music', 'Android Skout New', 'Camfrog Android Smartphone', 'Truecaller - Caller ID & Block', 'Music Maniac - Mp3 downloader', 'Android InstaSize', 'Android Skout New', 'Android Skout New', \"Shape'd\", 'Android Skout New', 'Raging Thunder 2 Menus', 'Android Skout New', 'Truecaller - Caller ID & Block', 'Dream League Soccer', 'iOS Skout New', 'Anger of Stick 3', 'Android Skout New', 'IM+ Android', 'A_Kingdomtactics', 'Android Skout New', 'Social Word Game 2 Android', 'iOS Skout New', 'iOS Skout New', 'Advanced Music Player', 'Android Skout New', 'Android Skout New', 'IM+ iPad', 'Advanced Music Player', 'Dream League Soccer', 'iOS Skout New', 'Dream League Soccer', 'Android Skout New', 'Indonesia News', 'Palringo Group Messenger', 'MangaSearcher', 'Truecaller - Caller ID & Block', 'Truecaller - Caller ID & Block', 'Android Skout New', 'New Version Social Word Game 2', 'Android Skout New', 'Truecaller - Caller ID & Block', 'Android Skout New', 'Truecaller - Caller ID & Block', 'Dream League Soccer', 'Truecaller - Caller ID & Block', 'MangaSearcher', 'Android Skout New', 'iOS Skout New', 'Android Skout New', 'Truecaller - Caller ID & Block', 'Android Skout New', 'Camfrog Android Smartphone', 'Android Skout New', 'Truecaller - Caller ID & Block', 'Music Maniac - Mp3 downloader', 'Truecaller - Caller ID & Block', 'MangaSearcher', 'Download music', 'Android Skout New', 'Android Skout New', 'iOS Skout New', 'Android Skout New', 'Android Skout New', 'Social Word Game 2 Android', 'Music Maniac - Mp3 downloader', 'Atrium for Facebook', 'theCHIVE iOS', 'Download music', 'Anger of Stick 2', 'iOS Skout New', 'Android InstaSize', 'Android Skout New', 'Dream League Soccer', 'MangaSearcher', 'iOS Skout New', 'Indonesia News', 'iOS Skout New', 'LAZY #1 (Song)', 'Stupid Zombies 2 Google', 'Android Skout New', 'Calorie Counter - MyFitnessPal', 'MangaSearcher', 'theScore Mobile', 'MangaSearcher', 'FML Android', 'Android Skout New', 'Truecaller - Caller ID & Block', 'Raging Thunder 2 Menus', 'Truecaller - Caller ID & Block', 'Paper Cars', 'Android Skout New', 'Guess The Emoji - Android', 'MangaSearcher', 'Truecaller - Caller ID & Block', 'Indonesia News', 'Raging Thunder 2 Ingame', 'Music Maniac - Mp3 downloader', 'Social Word Game 2 iOS', 'Android Skout New', 'iOS Skout New', 'iOS Skout New', 'Android Skout New', 'Advanced Music Player', 'Anger of Stick 3', 'Thumb', 'Download music', 'Truecaller - Caller ID & Block', 'Truecaller - Caller ID & Block', 'Truecaller - Caller ID & Block', 'Advanced Music Player', 'iOS Skout New', '(old) Weather\\xc2\\xb0', 'Android Skout New', 'Truecaller - Caller ID & Block', 'Truecaller - Caller ID & Block', 'Android Skout New', 'Flipps', 'Raging Thunder 2 Ingame', 'Android Skout New', 'iOS Skout New', 'Truecaller - Caller ID & Block', 'Android Skout New', 'Android Battery Saver', 'Truecaller - Caller ID & Block', 'Android Skout New', 'Android Skout New', 'Android Skout New', 'Truecaller - Caller ID & Block', 'Indonesia News', 'Android Skout New', 'jango radio android', 'Game 1', 'Android Skout New', 'Truecaller - Caller ID & Block', 'iOS Skout New', 'Truecaller - Global Phone Directory', 'iOS Flurv', 'Download music', 'Indonesia News', 'Android Skout New', 'Truecaller - Caller ID & Block', 'Dream League Soccer', 'iOS Skout New', 'Gravity Guy vertical v1.5.2+', 'Truecaller - Caller ID & Block', 'Truecaller - Caller ID & Block', 'Android Skout New', 'Android Skout New', '(old) Alarm Clock+', 'Camfrog Android Smartphone', 'Android Skout New', 'MangaSearcher', 'Android Skout New', 'iOS Skout New', 'Kingdom Coins - Lucky Vegas', 'Android Skout New', 'Game 12', 'Dream League Soccer', 'Social Word Game 2 iOS', 'Raging Thunder Menus', 'Music Maniac - Mp3 downloader', 'Android Skout New', 'Music Maniac - Mp3 downloader', 'Android Skout New', 'iOS Skout New', 'The Voice Android', 'Truecaller - Caller ID & Block', 'iOS Skout New', 'Indonesia News', 'MangaSearcher', 'Android Battery Saver', 'Social Word Game 2 Android', 'Android Skout New', 'Camfrog Android Smartphone', 'Dream League Soccer', 'iOS Skout New', 'Indonesia News', 'Kpop Quiz', 'Dream League Soccer', 'MangaSearcher', 'Android Skout New', 'iOS Skout New', 'Android Skout New', 'Dream League Soccer', 'Android Skout New', 'Camfrog Android Smartphone', 'Android Skout New', 'Android Skout New', 'Indonesia News', 'MangaSearcher', 'Android Battery Saver', 'A_Kingdomtactics', 'Chess.com - Android', 'Truecaller - Global Phone Directory', 'Game 1', 'Music Maniac - Mp3 downloader', 'Truecaller - Caller ID & Block', 'iOS Skout New', 'Truecaller - Caller ID & Block', 'Android Skout New', 'Star Girl: Moda Italia', 'Raging Thunder 2 Menus', 'iOS Skout New', \"Shape'd\", 'Truecaller - Caller ID & Block', 'Truecaller - Caller ID & Block', 'Dream League Soccer', 'Android Skout New', 'Dream League Soccer', 'Truecaller - Caller ID & Block', 'Android Skout New', 'ScoreMobile Android', 'Android BoyAhoy New', 'Social Word Game 2 Android', 'Text Me! - Free Texting', 'Dream League Soccer', 'Advanced Music Player', 'Android Skout New', 'Android Skout New', 'Camfrog Android Smartphone', 'iOS Skout New', 'ooVoo Mobile- Android', 'Advanced Music Player', 'iOS Skout New', 'Android Skout New', 'Camfrog Android Smartphone', 'iOS Skout New', 'Android Skout New', \"Shape'd\", 'Truecaller - Caller ID & Block', 'Social Word Game 2 iOS', 'Download music', 'Android Skout New', 'Anger of Stick 2', 'Android Skout New', 'Android Skout New', 'iOS Skout New', 'Download music', 'Android Skout New', 'Truecaller - Caller ID & Block', 'iOS Skout New', 'Raging Thunder Menus', 'Office Documents Viewer', 'Android Skout New', 'Download music', 'Rail Rush', 'iOS Skout', 'Truecaller - Caller ID & Block', 'Android Skout New', 'Guess The Emoji - Android', 'Android Battery Saver', 'MangaSearcher', 'Android Skout New', 'Truecaller - Caller ID & Block', 'iOS Skout New', 'Android Skout New', 'iOS Skout New', 'Download music', 'Draw Something', 'iOS Skout New', 'Indonesia News', 'Android Skout New', 'iOS Skout', 'IM+ Android', 'Android Skout New', 'Dream League Soccer', 'InfiniteGAG (9GAG)', 'Dream League Soccer', 'iOS Skout', 'Android Skout New', 'iOS Skout New', 'Hindi Songs + Bollywood Music Radio - Dhingana Music (free)', 'Android Skout New', 'Android Skout New', '(old) Weather\\xc2\\xb0', 'IM+ Android', 'Camfrog Android Smartphone', 'Android InstaSize', 'Android Skout New', 'Android Skout New', 'Camfrog Android Smartphone', 'Game 12', 'Android Skout New', 'Advanced Music Player', 'iOS Skout New', 'Android Skout New', 'Android Skout New', 'Android Skout New', 'Android BoyAhoy New', 'Android Skout New', 'Android Skout New', 'iOS Skout New', 'Android Skout New', 'Android Skout New', 'Truecaller - Caller ID & Block', 'iOS Skout New', 'iOS Skout New', 'Camfrog Android Smartphone', 'iOS Skout New', 'Raging Thunder 2 Menus', 'Indonesia News', 'Android Skout New', 'Android Skout New', 'Raging Thunder 2 Ingame', 'Truecaller - Caller ID & Block', 'Truecaller - Caller ID & Block', 'Android Skout New', 'Calorie Counter - MyFitnessPal', 'Android Skout New', 'iOS Skout New', 'Truecaller - Caller ID & Block', 'Kpop Quiz', 'Score! World Goals', 'Cars And Guns 3D FREE', 'Truecaller - Caller ID & Block', 'MangaSearcher', 'Camfrog Android Smartphone', 'Stupid Zombies 2 Google', 'Android Skout New', 'Truecaller - Caller ID & Block', 'Android Skout New', 'iOS Skout New', 'Truecaller - Caller ID & Block', 'Android Battery Saver', 'Android Skout New', 'Indonesia News', 'Kpop Music Quiz', 'Truecaller - Caller ID & Block', 'Truecaller - Caller ID & Block', 'Truecaller - Caller ID & Block', 'Indonesia News', 'Truecaller - Caller ID & Block', 'Stupid Zombies', 'Gtalk', 'iOS Skout New', 'MangaSearcher', 'iOS Skout New', 'Game 16', 'Android Skout New', 'Android Skout New', 'Android Skout New', 'Game 16', 'Android InstaSize', 'New Version Social Word Game 2', 'Android Skout New', 'iOS Skout New', 'iOS Skout New', 'IM+  iPhone', 'Android Skout New', 'Android Skout New', 'ScoreMobile Android', 'iOS Skout New', 'Funny SMS Tones', 'Indonesia News', 'Palringo Group Messenger', 'A_Kingdomtactics', 'Dream League Soccer', 'Raging Thunder 2 Menus', 'Android Skout New', 'iOS Skout New', 'Android Skout New', 'Truecaller - Caller ID & Block', 'Android Skout New', 'Truecaller - Global Phone Directory', 'iOS Skout New', 'Android Skout New', 'Devotion', 'Android Skout New', 'jango radio android', 'Raging Thunder Ingame', 'Download music', 'MangaSearcher', 'Malaysia News', 'Android Skout New', 'Download music', 'Truecaller - Caller ID & Block', 'iOS Skout', 'Dream League Soccer', 'Android InstaSize', 'Android Skout New', 'Advanced Music Player', 'iOS Skout New', 'Truecaller - Caller ID & Block', 'Star Defender 4 (Free)', 'Truecaller - Caller ID & Block', 'iOS Skout New', 'ooVoo Mobile- Android', 'Android Skout New', 'Truecaller - Caller ID & Block', 'Music Tube', 'Android Skout New', 'Android Skout New', 'Aptoide', 'iOS Skout New', 'Truecaller - Caller ID & Block', 'theCHIVE iOS', 'MangaSearcher', 'iOS Skout New', 'iOS Skout New', 'Sudoku', 'Truecaller - Global Phone Directory', 'Anonymous healthcare_and_fitness App cflw`2B2[h1s`lNzF@sPC1FtaCji:6kTF@', 'MangaSearcher', 'Android Skout New', 'ooVoo Mobile- Android', 'iOS Skout New', 'I Am Awesome', 'Android Skout New', 'Truecaller - Caller ID & Block', 'Truecaller - Caller ID & Block', 'A_Kingdomtactics', 'iOS Flurv', 'Truecaller - Caller ID & Block', 'iOS Skout New', 'Mini Golf MatchUp Android', 'Android Skout New', 'Annoying Orange: Carnage Lite', 'Truecaller - Caller ID & Block', 'Palringo', 'Truecaller - Caller ID & Block', 'Dream League Soccer', 'Android InstaSize', 'Android Skout New', 'Weather\\xc2\\xb0', 'Truecaller - Caller ID & Block', 'Android Skout New', 'Score! World Goals', 'MangaSearcher', 'Raging Thunder 2 Ingame', 'Anger of Stick 2'\n\n"
      }
     ],
     "prompt_number": 3
    },
    {
     "cell_type": "code",
     "collapsed": false,
     "input": "#Removing some common punctuation.\nclean_apps = apps.translate(None, \"$&'.!@#%^*:/[];-`~(){\\\"}\")",
     "language": "python",
     "metadata": {},
     "outputs": [],
     "prompt_number": 4
    },
    {
     "cell_type": "code",
     "collapsed": false,
     "input": "clean_apps = clean_apps.replace(\"Android\", \"\").replace(\"iOS\", \"\").replace(\"iPad\", \"\").replace(\"iPhone\", \"\")",
     "language": "python",
     "metadata": {},
     "outputs": [],
     "prompt_number": 5
    },
    {
     "cell_type": "code",
     "collapsed": false,
     "input": "#Something I noticed is that many app names which are given together should actually be split up.\n#eg. \"Android SkypeLovers\" should actually be \"Skype Lovers\". \n#Thankfully easy to solve using regular expressions.\nimport re\nclean_apps = re.sub(r\"(\\w)([A-Z])\", r\"\\1 \\2\", clean_apps)",
     "language": "python",
     "metadata": {},
     "outputs": [],
     "prompt_number": 6
    },
    {
     "cell_type": "code",
     "collapsed": false,
     "input": "#Unfortunately the above step seperates some initials in a bad way. eg. \"Caller I D Block\" must be \"Caller ID Block\".\n#We solve this easily by means of a regular expression.\nclean_apps = re.sub(r\"([A-Z]) ([A-Z])\", r\"\\1\\2\", clean_apps)\n#Yay I learn to use regular expressions. Damn they are incredibly usefull :)",
     "language": "python",
     "metadata": {},
     "outputs": [],
     "prompt_number": 7
    },
    {
     "cell_type": "code",
     "collapsed": false,
     "input": "#We still have mixed case characters. Convert them all to lower case.\nclean_apps = clean_apps.lower()",
     "language": "python",
     "metadata": {},
     "outputs": [],
     "prompt_number": 8
    },
    {
     "cell_type": "code",
     "collapsed": false,
     "input": "#Removing extra spaces in string.\nclean_apps = \" \".join(clean_apps.split())",
     "language": "python",
     "metadata": {},
     "outputs": [],
     "prompt_number": 9
    },
    {
     "cell_type": "code",
     "collapsed": false,
     "input": "#Splitting our clean input into individual apps using comma as the seperator.\napp = clean_apps.split(\",\")",
     "language": "python",
     "metadata": {},
     "outputs": [],
     "prompt_number": 10
    },
    {
     "cell_type": "code",
     "collapsed": false,
     "input": "#We now need to remove exact duplicates.\n#We use set to easily remove them. Convert to set and back to list.\nfinal_app = list(set(app))",
     "language": "python",
     "metadata": {},
     "outputs": [],
     "prompt_number": 11
    },
    {
     "cell_type": "code",
     "collapsed": false,
     "input": "#Removed first space in every app name.\nfinal_app = [s[1:] for s in final_app]",
     "language": "python",
     "metadata": {},
     "outputs": [],
     "prompt_number": 12
    },
    {
     "cell_type": "code",
     "collapsed": false,
     "input": "#General cleaning up done.\n#We now face two problems:\n#1. Same apps but difference in names. eg. Skout and Skout iOS refer to the same app. The iOS and Android extensions can be rectified by just removing them on found instances because I dont find platform as an important attribute for this task. eg. It doesnt matter if I search Truecaller on iOS or Android as the attributes I require are the same on both.\n#2. Spelling Errors. eg. Skout and Scout may come up. I find the SequenceMatcher in Pythons difflib library to be good for this purpose. Names whose ratio's are above a certain threshold maybe considered as the same app. Anything above that maybe considered similar.\n#Various approaches I took will be discussed later.\n#Also the first word in each string in the list will be taken as the main word(ref Pycon 2013 talk).",
     "language": "python",
     "metadata": {},
     "outputs": [],
     "prompt_number": 13
    },
    {
     "cell_type": "code",
     "collapsed": false,
     "input": "#Removing the Android, iOS instances.\nfinal_app_clean = [s.replace(\"android\", \"\").replace(\"ios\", \"\").replace(\"ipad\", \"\").replace(\"iphone\", \"\") for s in final_app]",
     "language": "python",
     "metadata": {},
     "outputs": [],
     "prompt_number": 14
    },
    {
     "cell_type": "code",
     "collapsed": false,
     "input": "#Removing spelling duplicates. This step can be used to remove the Android and iOS instances too as the 70 threshold holds on those instances too.\n#eg. Instances where Android is mispelled as ndroid needs to be removed. eg. 'ndroid skout new' and 'skout' and 'skout' new are the same. \n#My logic is the eliminate the long string and maintain the short string. Maintaining the shorter string would work well for this data set but I think maintaining the longer set would be better in some datasets.\n#Above logic may have to be corrected.\n#Logic done properly below. These comments can be ignored.",
     "language": "python",
     "metadata": {},
     "outputs": [],
     "prompt_number": 15
    },
    {
     "cell_type": "code",
     "collapsed": false,
     "input": "#Sorting the list. This step is unnecessary.\nfinal_app_clean.sort()",
     "language": "python",
     "metadata": {},
     "outputs": [],
     "prompt_number": 16
    },
    {
     "cell_type": "code",
     "collapsed": false,
     "input": "#We need to decode the list so that we can remove garbage values in string.\nfinal_app_clean = [s.decode('string_escape') for s in final_app_clean]",
     "language": "python",
     "metadata": {},
     "outputs": [],
     "prompt_number": 17
    },
    {
     "cell_type": "code",
     "collapsed": false,
     "input": "#Need to remove some garbage data from string. eg. eather\\xc2\\xb0 needs to be eather.\nfinal_app_clean = [filter(lambda x: ord(x) < 128, s) for s in final_app_clean]\nprint final_app_clean",
     "language": "python",
     "metadata": {},
     "outputs": [
      {
       "output_type": "stream",
       "stream": "stdout",
       "text": "['2 player reactor', 'a_ kingdomtactics', 'advanced music player', 'alarm clock new', 'anger of stick 2', 'anger of stick 3', 'annoying orange carnage lite', 'anonymous games app cflw2 b2h1sl nz fs pc1 fta ci6b iuf', 'anonymous healthcare_and_fitness app cflw2 b2h1sl nz fs pc1 fta cji6k tf', 'aptoide', 'atrium for facebook', 'baby bump ', 'badminton', 'battery saver', 'better flash light hd + led', 'boy ahoy', 'boy ahoy new', 'bpill101 manga pop', 'calorie counter my fitness pal', 'camfrog smartphone', 'candy and jewels', 'cars and guns 3 df ree', 'chesscom ', 'connect', 'daily cardio workout free', 'daily workouts free', 'devotion', 'dhingana music ', 'download music', 'download video', 'draw something', 'draw something 2 ', 'dream league soccer', 'fashion house ', 'flipps', 'flurv', 'fml ', 'fragger vertical banner market', 'free english dictionary', 'fruit blitz free', 'funny ringtones', 'funny smstones', 'funny sound effects ringtones', 'game 1', 'game 12', 'game 16', 'game 25', 'game 3', 'ghost detector 2', 'gravity guy menu v152+', 'gravity guy vertical v152+', 'gtalk', 'guess the emoji ', 'hindi songs + bollywood music radio dhingana music free', 'iam awesome', 'iconmania ultimate ', 'im', 'im+ ', 'indonesia news', 'infinite gag 9 gag', 'insta size', 'jango radio ', 'jigzle flowers and plants', 'kingdom coins lucky vegas', 'kout new', 'kpop music quiz', 'kpop quiz', 'lazy 1 song', 'listen on repeat', 'malaysia news', 'manga searcher', 'matching football', 'mini golf match up ', 'mobario', 'mountain moto 2 down hill', 'movie pop', 'music maniac mp3 downloader', 'music tube', 'new version social word game 2', 'office documents viewer', 'old alarm clock+', 'old weather', 'online football manager ', 'oo voo mobile ', 'palringo', 'palringo group messenger', 'paltalk banner', 'paltalk smart phone', 'paper cars', 'paper glider', 'parking frenzy ', 'photo and video messenger', 'psmcraigslist ', 'quick manga', 'radio apps in google', 'raging thunder 2 ingame', 'raging thunder 2 menus', 'raging thunder ingame', 'raging thunder menus', 'rail rush', 'score mobile ', 'score world goals', 'shaped', 'skout', 'skout new', 'skype lovers', 'sms texting and im chat vo ipgoogle voice', 'social bubble popper game 1 ', 'social matching game ', 'social running game 1', 'social word game 1 ', 'social word game 2 ', 'social word game 3 ', 'solitaire', 'song pop free', 'star defender 4 free', 'star girl moda italia', 'stupid zombies', 'stupid zombies 2 google', 'sudoku', 'talkatone free calls', 'text me free sms', 'text me free texting', 'text now ', 'thai news', 'the chive ', 'the moron test old school ', 'the score edition', 'the score mobile', 'the voice ', 'thumb', 'tiny battery widget', 'trailer parking ', 'troll face photo', 'truecaller caller id block', 'truecaller global phone directory', 'ultimate control', 'video tube free for you tube for ', 'virtual pet care', 'weather', 'wiki mobile 2', 'wings of glory', 'wordly ', 'zombie run hd']\n"
      }
     ],
     "prompt_number": 18
    },
    {
     "cell_type": "code",
     "collapsed": false,
     "input": "#Now we use the FuzzyWuzzy(yeah funny name !) library to remove nearly matching app names.\n#The library is available at https://github.com/seatgeek/fuzzywuzzy\n#pip install fuzzywuzzy\n#Excellent overview of its features available at http://chairnerd.seatgeek.com/fuzzywuzzy-fuzzy-string-matching-in-python/\nfrom fuzzywuzzy import fuzz\n#Use the token_set_ratio for this purpose. It takes care of the \"Out of Order\" problem and does partial string matching.\n#eg. fuzz.token_set_ratio(\"skout\", \"ndroid skout new\") = 100 !! Perfect match !!\n#I found 65 to be a good threshold.\nfor i in range(0, len(final_app_clean) - 1):\n    for j in range((i+1), len(final_app_clean)):\n        if(fuzz.token_set_ratio(final_app_clean[i], final_app_clean[j]) >= 65):\n            if(len(final_app_clean[i]) < len(final_app_clean[j])):\n                final_app_clean[j] = \"\"\n            else:\n                final_app_clean[i] = \"\"",
     "language": "python",
     "metadata": {},
     "outputs": [],
     "prompt_number": 19
    },
    {
     "cell_type": "code",
     "collapsed": false,
     "input": "#Remove the added ''.\nfinal_app_clean = filter(lambda x: len(x) > 0, final_app_clean)\nfinal_app_clean = [s.strip() for s in final_app_clean]",
     "language": "python",
     "metadata": {},
     "outputs": [],
     "prompt_number": 20
    },
    {
     "cell_type": "code",
     "collapsed": false,
     "input": "#Usually _ represents a space\nfinal_app_clean = [s.replace(\"_\", \" \") for s in final_app_clean]\nprint final_app_clean",
     "language": "python",
     "metadata": {},
     "outputs": [
      {
       "output_type": "stream",
       "stream": "stdout",
       "text": "['2 player reactor', 'a  kingdomtactics', 'alarm clock new', 'anger of stick 3', 'annoying orange carnage lite', 'anonymous games app cflw2 b2h1sl nz fs pc1 fta ci6b iuf', 'aptoide', 'atrium for facebook', 'baby bump', 'badminton', 'battery saver', 'better flash light hd + led', 'boy ahoy', 'bpill101 manga pop', 'calorie counter my fitness pal', 'camfrog smartphone', 'candy and jewels', 'cars and guns 3 df ree', 'chesscom', 'connect', 'daily workouts free', 'devotion', 'download video', 'draw something', 'dream league soccer', 'fashion house', 'flipps', 'flurv', 'fml', 'fragger vertical banner market', 'free english dictionary', 'fruit blitz free', 'funny smstones', 'funny sound effects ringtones', 'game 3', 'ghost detector 2', 'gravity guy menu v152+', 'gtalk', 'guess the emoji', 'iam awesome', 'im', 'indonesia news', 'infinite gag 9 gag', 'insta size', 'jango radio', 'jigzle flowers and plants', 'kingdom coins lucky vegas', 'kout new', 'kpop quiz', 'lazy 1 song', 'listen on repeat', 'malaysia news', 'manga searcher', 'matching football', 'mini golf match up', 'mobario', 'mountain moto 2 down hill', 'movie pop', 'music tube', 'office documents viewer', 'palringo', 'paltalk banner', 'paper cars', 'parking frenzy', 'photo and video messenger', 'psmcraigslist', 'quick manga', 'radio apps in google', 'raging thunder menus', 'rail rush', 'score world goals', 'shaped', 'skout', 'skype lovers', 'solitaire', 'song pop free', 'star defender 4 free', 'star girl moda italia', 'stupid zombies', 'sudoku', 'talkatone free calls', 'text now', 'thai news', 'the moron test old school', 'the score edition', 'the voice', 'thumb', 'troll face photo', 'truecaller caller id block', 'truecaller global phone directory', 'ultimate control', 'video tube free for you tube for', 'virtual pet care', 'weather', 'wiki mobile 2', 'wings of glory', 'wordly', 'zombie run hd']\n"
      }
     ],
     "prompt_number": 21
    },
    {
     "cell_type": "code",
     "collapsed": false,
     "input": "#Copy of final cleaned result.\nsearch_names = final_app_clean",
     "language": "python",
     "metadata": {},
     "outputs": [],
     "prompt_number": 22
    },
    {
     "cell_type": "code",
     "collapsed": false,
     "input": "#Scraping starts. Doing only Android store now.\nfrom bs4 import BeautifulSoup\nfrom urllib2 import urlopen\n\nBASE_URL = \"https://play.google.com\"",
     "language": "python",
     "metadata": {},
     "outputs": [],
     "prompt_number": 23
    },
    {
     "cell_type": "code",
     "collapsed": false,
     "input": "#Getting search result links.\n#Threshold set to 30. Google play search results are extremely accurate.\ndef get_search_links(section_url, name):\n    html = urlopen(section_url).read()\n    soup = BeautifulSoup(html, \"lxml\")\n    a_tag = soup.find(\"a\", \"title\")\n    if a_tag is None:\n        a_href = \"No information found in the play store for \" + name \n        return a_href\n    a_title = a_tag.get('title')\n    if(fuzz.token_set_ratio(a_title.lower(), name) >= 30):\n        a_href = a_tag.get('href')\n    else:\n        a_href = \"No information found in the play store for \" + name\n    return a_href\n#print get_search_links(\"https://play.google.com/store/search?q=a%20kingdomtactics\", \"a kingdomtactics\")",
     "language": "python",
     "metadata": {},
     "outputs": [],
     "prompt_number": 24
    },
    {
     "cell_type": "code",
     "collapsed": false,
     "input": "#Creating a list of search url's for google play.\n#My technique is to do an actual search for each app, scan the titles of the search results and do a string matching algorithm on them(eg. Levenshtein distance).\n#If a match comes up, follow that url and extract app details.\n#I'm trusting Google's first result to be correct. In any case I do string matching inc ase there are no correct results. The ideal way should be to return all links in the search result and do string matching on all of them and take the one with the best score. But from expeirence I found the search to be very accurate.\nsearch_names_for_links = [s.replace(\" \", \"%20\") for s in search_names]\nsearch_links = [\"https://play.google.com/store/search?q=\" + s + \"&c=apps\" for s in search_names_for_links]",
     "language": "python",
     "metadata": {},
     "outputs": [],
     "prompt_number": 25
    },
    {
     "cell_type": "code",
     "collapsed": false,
     "input": "#Will contain the app link.\napp_result_page_links = []",
     "language": "python",
     "metadata": {},
     "outputs": [],
     "prompt_number": 26
    },
    {
     "cell_type": "code",
     "collapsed": false,
     "input": "#Now we have to create a list containing the app links.\nimport itertools\nfor name, link in itertools.izip(search_names, search_links):\n    app_result_page_links.append(get_search_links(link, name))\n    print app_result_page_links[-1]",
     "language": "python",
     "metadata": {},
     "outputs": [
      {
       "output_type": "stream",
       "stream": "stdout",
       "text": "/store/apps/details?id=coolcherrytrees.games.reactor\n/store/apps/details?id=com.com2us.kingdomtactics.normal.freefull.google.global.android.common"
      },
      {
       "output_type": "stream",
       "stream": "stdout",
       "text": "\n/store/apps/details?id=com.macropinch.axe"
      },
      {
       "output_type": "stream",
       "stream": "stdout",
       "text": "\n/store/apps/details?id=com.miniclip.angerofstick3"
      },
      {
       "output_type": "stream",
       "stream": "stdout",
       "text": "\n/store/apps/details?id=com.bottlerocketapps.aokitchenlite"
      },
      {
       "output_type": "stream",
       "stream": "stdout",
       "text": "\nNo information found in the play store for anonymous games app cflw2 b2h1sl nz fs pc1 fta ci6b iuf"
      },
      {
       "output_type": "stream",
       "stream": "stdout",
       "text": "\n/store/apps/details?id=com.apps.browser"
      },
      {
       "output_type": "stream",
       "stream": "stdout",
       "text": "\n/store/apps/details?id=com.radiantbits.atrium"
      },
      {
       "output_type": "stream",
       "stream": "stdout",
       "text": "\n/store/apps/details?id=com.alt12.babybumpfree"
      },
      {
       "output_type": "stream",
       "stream": "stdout",
       "text": "\n/store/apps/details?id=com.giraffegames.badminton"
      },
      {
       "output_type": "stream",
       "stream": "stdout",
       "text": "\n/store/apps/details?id=com.ijinshan.kbatterydoctor_en"
      },
      {
       "output_type": "stream",
       "stream": "stdout",
       "text": "\n/store/apps/details?id=ch.smalltech.ledflashlight.free"
      },
      {
       "output_type": "stream",
       "stream": "stdout",
       "text": "\n/store/apps/details?id=com.boyahoy.android"
      },
      {
       "output_type": "stream",
       "stream": "stdout",
       "text": "\n/store/apps/details?id=com.dena.mj"
      },
      {
       "output_type": "stream",
       "stream": "stdout",
       "text": "\n/store/apps/details?id=com.myfitnesspal.android"
      },
      {
       "output_type": "stream",
       "stream": "stdout",
       "text": "\n/store/apps/details?id=com.camshare.camfrog.android"
      },
      {
       "output_type": "stream",
       "stream": "stdout",
       "text": "\n/store/apps/details?id=com.nealo.candyjewels"
      },
      {
       "output_type": "stream",
       "stream": "stdout",
       "text": "\n/store/apps/details?id=com.eig.carsandguns"
      },
      {
       "output_type": "stream",
       "stream": "stdout",
       "text": "\n/store/apps/details?id=com.chess_v2"
      },
      {
       "output_type": "stream",
       "stream": "stdout",
       "text": "\nNo information found in the play store for connect"
      },
      {
       "output_type": "stream",
       "stream": "stdout",
       "text": "\n/store/apps/details?id=com.tinymission.dailyworkoutsfree"
      },
      {
       "output_type": "stream",
       "stream": "stdout",
       "text": "\n/store/apps/details?id=com.fishmy.android"
      },
      {
       "output_type": "stream",
       "stream": "stdout",
       "text": "\n/store/apps/details?id=info.techtechapps.vid.android"
      },
      {
       "output_type": "stream",
       "stream": "stdout",
       "text": "\n/store/apps/details?id=com.omgpop.dstfree"
      },
      {
       "output_type": "stream",
       "stream": "stdout",
       "text": "\n/store/apps/details?id=com.firsttouchgames.dlsa"
      },
      {
       "output_type": "stream",
       "stream": "stdout",
       "text": "\n/store/apps/details?id=com.games2win.fashionhouse"
      },
      {
       "output_type": "stream",
       "stream": "stdout",
       "text": "\n/store/apps/details?id=com.bianor.ams"
      },
      {
       "output_type": "stream",
       "stream": "stdout",
       "text": "\n/store/apps/details?id=com.flurv.android"
      },
      {
       "output_type": "stream",
       "stream": "stdout",
       "text": "\n/store/apps/details?id=fmlife.activities"
      },
      {
       "output_type": "stream",
       "stream": "stdout",
       "text": "\n/store/apps/details?id=kenyu73.bannerwidget"
      },
      {
       "output_type": "stream",
       "stream": "stdout",
       "text": "\n/store/apps/details?id=livio.pack.lang.en_US"
      },
      {
       "output_type": "stream",
       "stream": "stdout",
       "text": "\n/store/apps/details?id=com.icegame.fruitblitz0"
      },
      {
       "output_type": "stream",
       "stream": "stdout",
       "text": "\n/store/apps/details?id=com.appspot.swisscodemonkeys.jokes"
      },
      {
       "output_type": "stream",
       "stream": "stdout",
       "text": "\n/store/apps/details?id=com.sancronringtones.soundeffectssb"
      },
      {
       "output_type": "stream",
       "stream": "stdout",
       "text": "\n/store/apps/details?id=air.com.forthedream.dreamworks4.vn.ss.google.A1"
      },
      {
       "output_type": "stream",
       "stream": "stdout",
       "text": "\n/store/apps/details?id=es.eduxdream.ghost.detector"
      },
      {
       "output_type": "stream",
       "stream": "stdout",
       "text": "\n/store/apps/details?id=com.miniclip.gravityguy"
      },
      {
       "output_type": "stream",
       "stream": "stdout",
       "text": "\n/store/apps/details?id=net.init0.android.liveware.extension.gtalknotifier"
      },
      {
       "output_type": "stream",
       "stream": "stdout",
       "text": "\n/store/apps/details?id=com.randomlogicgames.guesstheemoji"
      },
      {
       "output_type": "stream",
       "stream": "stdout",
       "text": "\n/store/apps/details?id=me.v2m.android.imawesome"
      },
      {
       "output_type": "stream",
       "stream": "stdout",
       "text": "\n/store/apps/details?id=de.shapeservices.impluslite"
      },
      {
       "output_type": "stream",
       "stream": "stdout",
       "text": "\n/store/apps/details?id=com.daingo.news.indonesia"
      },
      {
       "output_type": "stream",
       "stream": "stdout",
       "text": "\n/store/apps/details?id=com.ninegag.android.x"
      },
      {
       "output_type": "stream",
       "stream": "stdout",
       "text": "\n/store/apps/details?id=com.jsdev.instasize"
      },
      {
       "output_type": "stream",
       "stream": "stdout",
       "text": "\n/store/apps/details?id=com.jangomobile.android"
      },
      {
       "output_type": "stream",
       "stream": "stdout",
       "text": "\n/store/apps/details?id=com.gamevil.plantswar.glo"
      },
      {
       "output_type": "stream",
       "stream": "stdout",
       "text": "\n/store/apps/details?id=com.kingdom.coins"
      },
      {
       "output_type": "stream",
       "stream": "stdout",
       "text": "\n/store/apps/details?id=com.timeout.newyork"
      },
      {
       "output_type": "stream",
       "stream": "stdout",
       "text": "\n/store/apps/details?id=com.zazpowered.kpopquiz"
      },
      {
       "output_type": "stream",
       "stream": "stdout",
       "text": "\n/store/apps/details?id=com.gamecircus.songz"
      },
      {
       "output_type": "stream",
       "stream": "stdout",
       "text": "\n/store/apps/details?id=com.youtuberepeatfree"
      },
      {
       "output_type": "stream",
       "stream": "stdout",
       "text": "\n/store/apps/details?id=com.daingo.news.malaysia"
      },
      {
       "output_type": "stream",
       "stream": "stdout",
       "text": "\n/store/apps/details?id=cn.rtfsc.searchmanga"
      },
      {
       "output_type": "stream",
       "stream": "stdout",
       "text": "\n/store/apps/details?id=com.wordsmobile.nfl"
      },
      {
       "output_type": "stream",
       "stream": "stdout",
       "text": "\n/store/apps/details?id=com.scopely.minigolf.free"
      },
      {
       "output_type": "stream",
       "stream": "stdout",
       "text": "\n/store/apps/details?id=com.mobarioapp"
      },
      {
       "output_type": "stream",
       "stream": "stdout",
       "text": "\n/store/apps/details?id=com.distinctivegames.longboard"
      },
      {
       "output_type": "stream",
       "stream": "stdout",
       "text": "\n/store/apps/details?id=air.com.freshplanet.games.MoviePop"
      },
      {
       "output_type": "stream",
       "stream": "stdout",
       "text": "\n/store/apps/details?id=com.ravensinc.Musictube"
      },
      {
       "output_type": "stream",
       "stream": "stdout",
       "text": "\n/store/apps/details?id=de.joergjahnke.documentviewer.android.free"
      },
      {
       "output_type": "stream",
       "stream": "stdout",
       "text": "\n/store/apps/details?id=com.palringo.android"
      },
      {
       "output_type": "stream",
       "stream": "stdout",
       "text": "\n/store/apps/details?id=com.paltalk.chat.android"
      },
      {
       "output_type": "stream",
       "stream": "stdout",
       "text": "\n/store/apps/details?id=com.eig.papercars"
      },
      {
       "output_type": "stream",
       "stream": "stdout",
       "text": "\n/store/apps/details?id=com.games2win.parkingfrenzy"
      },
      {
       "output_type": "stream",
       "stream": "stdout",
       "text": "\n/store/apps/details?id=ironroad.vms"
      },
      {
       "output_type": "stream",
       "stream": "stdout",
       "text": "\nNo information found in the play store for psmcraigslist"
      },
      {
       "output_type": "stream",
       "stream": "stdout",
       "text": "\n/store/apps/details?id=com.supo.pocket.mangareader"
      },
      {
       "output_type": "stream",
       "stream": "stdout",
       "text": "\n/store/apps/details?id=tunein.player"
      },
      {
       "output_type": "stream",
       "stream": "stdout",
       "text": "\n/store/apps/details?id=com.polarbit.rthunderlite"
      },
      {
       "output_type": "stream",
       "stream": "stdout",
       "text": "\n/store/apps/details?id=com.miniclip.railrush"
      },
      {
       "output_type": "stream",
       "stream": "stdout",
       "text": "\n/store/apps/details?id=com.firsttouchgames.score"
      },
      {
       "output_type": "stream",
       "stream": "stdout",
       "text": "\n/store/apps/details?id=com.iwombit.shaped"
      },
      {
       "output_type": "stream",
       "stream": "stdout",
       "text": "\n/store/apps/details?id=com.skout.android"
      },
      {
       "output_type": "stream",
       "stream": "stdout",
       "text": "\n/store/apps/details?id=com.skype.android.access"
      },
      {
       "output_type": "stream",
       "stream": "stdout",
       "text": "\n/store/apps/details?id=com.mobilityware.solitaire"
      },
      {
       "output_type": "stream",
       "stream": "stdout",
       "text": "\n/store/apps/details?id=air.com.freshplanet.games.WaM"
      },
      {
       "output_type": "stream",
       "stream": "stdout",
       "text": "\n/store/apps/details?id=awem.libsdl.app.sd4.free"
      },
      {
       "output_type": "stream",
       "stream": "stdout",
       "text": "\n/store/apps/details?id=com.animoca.google.starGirlitalia"
      },
      {
       "output_type": "stream",
       "stream": "stdout",
       "text": "\n/store/apps/details?id=com.gameresort.stupidzombies"
      },
      {
       "output_type": "stream",
       "stream": "stdout",
       "text": "\n/store/apps/details?id=com.icenta.sudoku.ui"
      },
      {
       "output_type": "stream",
       "stream": "stdout",
       "text": "\n/store/apps/details?id=com.ideafinger.hivog"
      },
      {
       "output_type": "stream",
       "stream": "stdout",
       "text": "\n/store/apps/details?id=com.gogii.textplus"
      },
      {
       "output_type": "stream",
       "stream": "stdout",
       "text": "\n/store/apps/details?id=com.thai_news"
      },
      {
       "output_type": "stream",
       "stream": "stdout",
       "text": "\n/store/apps/details?id=com.distinctdev.tmtlite"
      },
      {
       "output_type": "stream",
       "stream": "stdout",
       "text": "\n/store/apps/details?id=com.n3vgames.railshootere1"
      },
      {
       "output_type": "stream",
       "stream": "stdout",
       "text": "\n/store/apps/details?id=com.starmakerinteractive.thevoice"
      },
      {
       "output_type": "stream",
       "stream": "stdout",
       "text": "\n/store/apps/details?id=com.opinionaided"
      },
      {
       "output_type": "stream",
       "stream": "stdout",
       "text": "\n/store/apps/details?id=com.codewell.trollfacephoto"
      },
      {
       "output_type": "stream",
       "stream": "stdout",
       "text": "\n/store/apps/details?id=com.truecaller"
      },
      {
       "output_type": "stream",
       "stream": "stdout",
       "text": "\n/store/apps/details?id=com.truecaller"
      },
      {
       "output_type": "stream",
       "stream": "stdout",
       "text": "\n/store/apps/details?id=com.negusoft.ucontrol"
      },
      {
       "output_type": "stream",
       "stream": "stdout",
       "text": "\n/store/apps/details?id=com.xellentapps.videotube"
      },
      {
       "output_type": "stream",
       "stream": "stdout",
       "text": "\n/store/apps/details?id=com.nealo.virtualpet"
      },
      {
       "output_type": "stream",
       "stream": "stdout",
       "text": "\n/store/apps/details?id=com.devexpert.weather"
      },
      {
       "output_type": "stream",
       "stream": "stdout",
       "text": "\n/store/apps/details?id=org.wikipedia"
      },
      {
       "output_type": "stream",
       "stream": "stdout",
       "text": "\n/store/apps/details?id=com.glory.wings.helcopter.simulator"
      },
      {
       "output_type": "stream",
       "stream": "stdout",
       "text": "\n/store/apps/details?id=com.scopely.wordwars"
      },
      {
       "output_type": "stream",
       "stream": "stdout",
       "text": "\n/store/apps/details?id=com.retrostylegames.ZombieRHD"
      },
      {
       "output_type": "stream",
       "stream": "stdout",
       "text": "\n"
      }
     ],
     "prompt_number": 27
    },
    {
     "cell_type": "code",
     "collapsed": false,
     "input": "#appending domain.\napp_result_page_links_complete = [\"https://play.google.com\" + s for s in app_result_page_links]",
     "language": "python",
     "metadata": {},
     "outputs": [],
     "prompt_number": 28
    },
    {
     "cell_type": "code",
     "collapsed": false,
     "input": "#Takes each app link found above and scraps the relevant information.\ndef get_app_details(app_link):\n    if \"No information found in the play store for\" in app_link:\n        return None\n    html = urlopen(app_link).read()\n    soup = BeautifulSoup(html, \"lxml\")\n    name = soup.find(\"div\", \"document-title\").div.string\n    category = soup.find(\"a\", \"document-subtitle category\").span.string\n    rating =  soup.find(\"div\", \"score\").text\n    rating_number = soup.find(\"span\", attrs = {\"class\" : \"reviews-num\"}).string\n    downloads = soup.find(\"div\", attrs = {\"class\" : \"content\", \"itemprop\" : \"numDownloads\"}).string\n    return {\"name\" : name,\n            \"category\" : category,\n            \"rating\" : rating,\n            \"rating_number\" : rating_number,\n            \"downloads\" : downloads}",
     "language": "python",
     "metadata": {},
     "outputs": [],
     "prompt_number": 29
    },
    {
     "cell_type": "code",
     "collapsed": false,
     "input": "#Calling the above function and storing it to a list. Result is a list of dicts.\nfinal_app_details = []\nfor s in app_result_page_links_complete:\n    final_app_details.append(get_app_details(s))\n    print final_app_details[-1]",
     "language": "python",
     "metadata": {},
     "outputs": [
      {
       "output_type": "stream",
       "stream": "stdout",
       "text": "{'category': u'Family', 'rating': u'4.4', 'downloads': u' 10,000,000 - 50,000,000 ', 'rating_number': u'76,361', 'name': u'2 Player Reactor (Multiplayer)'}\n{'category': u'Strategy', 'rating': u'3.9', 'downloads': u' 100,000 - 500,000 ', 'rating_number': u'7,958', 'name': u'Kingdom Tactics'}"
      },
      {
       "output_type": "stream",
       "stream": "stdout",
       "text": "\n{'category': u'Tools', 'rating': u'4.5', 'downloads': u' 1,000,000 - 5,000,000 ', 'rating_number': u'58,501', 'name': u'Alarm Clock'}"
      },
      {
       "output_type": "stream",
       "stream": "stdout",
       "text": "\n{'category': u'Action', 'rating': u'4.2', 'downloads': u' 1,000,000 - 5,000,000 ', 'rating_number': u'49,874', 'name': u'Anger of Stick 3'}"
      },
      {
       "output_type": "stream",
       "stream": "stdout",
       "text": "\n{'category': u'Arcade', 'rating': u'4.3', 'downloads': u' 500,000 - 1,000,000 ', 'rating_number': u'8,730', 'name': u'Annoying Orange: Carnage Free'}"
      },
      {
       "output_type": "stream",
       "stream": "stdout",
       "text": "\nNone\n{'category': u'Social', 'rating': u'3.9', 'downloads': u' 1,000,000 - 5,000,000 ', 'rating_number': u'39,645', 'name': u'Aptoide Apps Browser'}"
      },
      {
       "output_type": "stream",
       "stream": "stdout",
       "text": "\n{'category': u'Social', 'rating': u'4.1', 'downloads': u' 100,000 - 500,000 ', 'rating_number': u'9,282', 'name': u'Atrium for Facebook'}"
      },
      {
       "output_type": "stream",
       "stream": "stdout",
       "text": "\n{'category': u'Health & Fitness', 'rating': u'4.6', 'downloads': u' 1,000,000 - 5,000,000 ', 'rating_number': u'26,462', 'name': u'BabyBump Pregnancy Free'}"
      },
      {
       "output_type": "stream",
       "stream": "stdout",
       "text": "\n{'category': u'Sports', 'rating': u'4.3', 'downloads': u' 500,000 - 1,000,000 ', 'rating_number': u'22,893', 'name': u'Badminton Smash 3D'}"
      },
      {
       "output_type": "stream",
       "stream": "stdout",
       "text": "\n{'category': u'Productivity', 'rating': u'4.5', 'downloads': u' 10,000,000 - 50,000,000 ', 'rating_number': u'1,194,529', 'name': u'Battery Doctor(Battery Saver)'}"
      },
      {
       "output_type": "stream",
       "stream": "stdout",
       "text": "\n{'category': u'Tools', 'rating': u'4.4', 'downloads': u' 10,000,000 - 50,000,000 ', 'rating_number': u'328,782', 'name': u'Flashlight HD LED'}"
      },
      {
       "output_type": "stream",
       "stream": "stdout",
       "text": "\n{'category': u'Social', 'rating': u'4.0', 'downloads': u' 1,000,000 - 5,000,000 ', 'rating_number': u'20,139', 'name': u'BoyAhoy - Gay Chat'}"
      },
      {
       "output_type": "stream",
       "stream": "stdout",
       "text": "\n{'category': u'Comics', 'rating': u'4.0', 'downloads': u' 1,000,000 - 5,000,000 ', 'rating_number': u'16,609', 'name': u'Manga Box: Manga App'}"
      },
      {
       "output_type": "stream",
       "stream": "stdout",
       "text": "\n{'category': u'Health & Fitness', 'rating': u'4.7', 'downloads': u' 10,000,000 - 50,000,000 ', 'rating_number': u'581,568', 'name': u'Calorie Counter - MyFitnessPal'}"
      },
      {
       "output_type": "stream",
       "stream": "stdout",
       "text": "\n{'category': u'Social', 'rating': u'4.1', 'downloads': u' 1,000,000 - 5,000,000 ', 'rating_number': u'46,697', 'name': u'Camfrog Video Chat'}"
      },
      {
       "output_type": "stream",
       "stream": "stdout",
       "text": "\n{'category': u'Puzzle', 'rating': u'4.1', 'downloads': u' 100,000 - 500,000 ', 'rating_number': u'541', 'name': u'Candy & Jewels'}"
      },
      {
       "output_type": "stream",
       "stream": "stdout",
       "text": "\n{'category': u'Racing', 'rating': u'4.6', 'downloads': u' 1,000,000 - 5,000,000 ', 'rating_number': u'25,770', 'name': u'Cars And Guns 3D FREE'}"
      },
      {
       "output_type": "stream",
       "stream": "stdout",
       "text": "\n{'category': u'Puzzle', 'rating': u'4.3', 'downloads': u' 10,000 - 50,000 ', 'rating_number': u'1,026', 'name': u'Chess.com Classic'}"
      },
      {
       "output_type": "stream",
       "stream": "stdout",
       "text": "\nNone\n{'category': u'Health & Fitness', 'rating': u'4.1', 'downloads': u' 1,000,000 - 5,000,000 ', 'rating_number': u'16,792', 'name': u'Daily Workouts FREE'}"
      },
      {
       "output_type": "stream",
       "stream": "stdout",
       "text": "\n{'category': u'Books & Reference', 'rating': u'4.5', 'downloads': u' 500,000 - 1,000,000 ', 'rating_number': u'5,888', 'name': u'Daily Bible Devotion'}"
      },
      {
       "output_type": "stream",
       "stream": "stdout",
       "text": "\n{'category': u'Media & Video', 'rating': u'3.8', 'downloads': u' 1,000,000 - 5,000,000 ', 'rating_number': u'36,876', 'name': u'Video Downloader - Video DL'}"
      },
      {
       "output_type": "stream",
       "stream": "stdout",
       "text": "\n{'category': u'Puzzle', 'rating': u'4.2', 'downloads': u' 10,000,000 - 50,000,000 ', 'rating_number': u'760,297', 'name': u'Draw Something Free'}"
      },
      {
       "output_type": "stream",
       "stream": "stdout",
       "text": "\n{'category': u'Sports', 'rating': u'4.4', 'downloads': u' 1,000,000 - 5,000,000 ', 'rating_number': u'210,615', 'name': u'Dream League Soccer'}"
      },
      {
       "output_type": "stream",
       "stream": "stdout",
       "text": "\n{'category': u'Casual', 'rating': u'3.4', 'downloads': u' 100,000 - 500,000 ', 'rating_number': u'5,647', 'name': u'Fashion House'}"
      },
      {
       "output_type": "stream",
       "stream": "stdout",
       "text": "\n{'category': u'Media & Video', 'rating': u'4.2', 'downloads': u' 1,000,000 - 5,000,000 ', 'rating_number': u'46,186', 'name': u'Flipps (Formerly iMediaShare)'}"
      },
      {
       "output_type": "stream",
       "stream": "stdout",
       "text": "\n{'category': u'Lifestyle', 'rating': u'4.1', 'downloads': u' 50,000 - 100,000 ', 'rating_number': u'532', 'name': u'Flurv Chat'}"
      },
      {
       "output_type": "stream",
       "stream": "stdout",
       "text": "\n{'category': u'Entertainment', 'rating': u'4.2', 'downloads': u' 1,000,000 - 5,000,000 ', 'rating_number': u'24,548', 'name': u'FML Official'}"
      },
      {
       "output_type": "stream",
       "stream": "stdout",
       "text": "\n{'category': u'Personalisation', 'rating': u'4.4', 'downloads': u' 100,000 - 500,000 ', 'rating_number': u'2,714', 'name': u'Banner'}"
      },
      {
       "output_type": "stream",
       "stream": "stdout",
       "text": "\n{'category': u'Books & Reference', 'rating': u'4.4', 'downloads': u' 5,000,000 - 10,000,000 ', 'rating_number': u'78,913', 'name': u'English Dictionary - Offline'}"
      },
      {
       "output_type": "stream",
       "stream": "stdout",
       "text": "\n{'category': u'Family', 'rating': u'3.8', 'downloads': u' 100,000 - 500,000 ', 'rating_number': u'2,192', 'name': u'Fruit Blitz'}"
      },
      {
       "output_type": "stream",
       "stream": "stdout",
       "text": "\n{'category': u'Entertainment', 'rating': u'4.3', 'downloads': u' 10,000,000 - 50,000,000 ', 'rating_number': u'64,635', 'name': u'Funny Jokes'}"
      },
      {
       "output_type": "stream",
       "stream": "stdout",
       "text": "\n{'category': u'Personalisation', 'rating': u'4.2', 'downloads': u' 1,000,000 - 5,000,000 ', 'rating_number': u'9,115', 'name': u'Funny Sound Effects Ringtones'}"
      },
      {
       "output_type": "stream",
       "stream": "stdout",
       "text": "\n{'category': u'Action', 'rating': u'4.2', 'downloads': u' 50,000 - 100,000 ', 'rating_number': u'1,769', 'name': u'Ng\\u1ecdc R\\u1ed3ng Game3'}"
      },
      {
       "output_type": "stream",
       "stream": "stdout",
       "text": "\n{'category': u'Entertainment', 'rating': u'3.6', 'downloads': u' 500,000 - 1,000,000 ', 'rating_number': u'5,941', 'name': u'Ghost Detector'}"
      },
      {
       "output_type": "stream",
       "stream": "stdout",
       "text": "\n{'category': u'Arcade', 'rating': u'4.2', 'downloads': u' 5,000,000 - 10,000,000 ', 'rating_number': u'91,032', 'name': u'Gravity Guy FREE'}"
      },
      {
       "output_type": "stream",
       "stream": "stdout",
       "text": "\n{'category': u'Communication', 'rating': u'3.9', 'downloads': u' 100,000 - 500,000 ', 'rating_number': u'1,271', 'name': u'Gtalk Notifier'}"
      },
      {
       "output_type": "stream",
       "stream": "stdout",
       "text": "\n{'category': u'Trivia', 'rating': u'4.2', 'downloads': u' 1,000,000 - 5,000,000 ', 'rating_number': u'56,194', 'name': u'Guess The Emoji - Emoji Pops'}"
      },
      {
       "output_type": "stream",
       "stream": "stdout",
       "text": "\n{'category': u'Entertainment', 'rating': u'3.6', 'downloads': u' 500 - 1,000 ', 'rating_number': u'5', 'name': u\"I'm Awesome - Free\"}"
      },
      {
       "output_type": "stream",
       "stream": "stdout",
       "text": "\n{'category': u'Communication', 'rating': u'4.2', 'downloads': u' 1,000,000 - 5,000,000 ', 'rating_number': u'80,403', 'name': u'IM+'}"
      },
      {
       "output_type": "stream",
       "stream": "stdout",
       "text": "\n{'category': u'News & Magazines', 'rating': u'4.4', 'downloads': u' 100,000 - 500,000 ', 'rating_number': u'1,981', 'name': u'Indonesia News'}"
      },
      {
       "output_type": "stream",
       "stream": "stdout",
       "text": "\n{'category': u'Entertainment', 'rating': u'4.5', 'downloads': u' 100,000 - 500,000 ', 'rating_number': u'9,180', 'name': u'9GAG First'}"
      },
      {
       "output_type": "stream",
       "stream": "stdout",
       "text": "\n{'category': u'Photography', 'rating': u'4.1', 'downloads': u' 5,000,000 - 10,000,000 ', 'rating_number': u'77,397', 'name': u'InstaSize'}"
      },
      {
       "output_type": "stream",
       "stream": "stdout",
       "text": "\n{'category': u'Music & Audio', 'rating': u'4.5', 'downloads': u' 1,000,000 - 5,000,000 ', 'rating_number': u'65,089', 'name': u'Jango Radio'}"
      },
      {
       "output_type": "stream",
       "stream": "stdout",
       "text": "\n{'category': u'Arcade', 'rating': u'4.6', 'downloads': u' 1,000,000 - 5,000,000 ', 'rating_number': u'63,177', 'name': u'Plants War'}"
      },
      {
       "output_type": "stream",
       "stream": "stdout",
       "text": "\n{'category': u'Card', 'rating': u'4.2', 'downloads': u' 100,000 - 500,000 ', 'rating_number': u'2,396', 'name': u'Kingdom Coins - Dozer of Coin'}"
      },
      {
       "output_type": "stream",
       "stream": "stdout",
       "text": "\n{'category': u'Travel & Local', 'rating': u'3.0', 'downloads': u' 50,000 - 100,000 ', 'rating_number': u'150', 'name': u'Time Out New York'}"
      },
      {
       "output_type": "stream",
       "stream": "stdout",
       "text": "\n{'category': u'Puzzle', 'rating': u'4.3', 'downloads': u' 100,000 - 500,000 ', 'rating_number': u'1,431', 'name': u'Kpop Quiz (K-pop Game)'}"
      },
      {
       "output_type": "stream",
       "stream": "stdout",
       "text": "\n{'category': u'Puzzle', 'rating': u'4.3', 'downloads': u' 5,000,000 - 10,000,000 ', 'rating_number': u'57,092', 'name': u'4 Pics 1 Song'}"
      },
      {
       "output_type": "stream",
       "stream": "stdout",
       "text": "\n{'category': u'Media & Video', 'rating': u'3.9', 'downloads': u' 1,000,000 - 5,000,000 ', 'rating_number': u'7,713', 'name': u'Listen on Repeat for Youtube'}"
      },
      {
       "output_type": "stream",
       "stream": "stdout",
       "text": "\n{'category': u'News & Magazines', 'rating': u'4.2', 'downloads': u' 100,000 - 500,000 ', 'rating_number': u'660', 'name': u'Malaysia News'}"
      },
      {
       "output_type": "stream",
       "stream": "stdout",
       "text": "\n{'category': u'Comics', 'rating': u'4.5', 'downloads': u' 1,000,000 - 5,000,000 ', 'rating_number': u'43,984', 'name': u'Manga Searcher | Manga Reader'}"
      },
      {
       "output_type": "stream",
       "stream": "stdout",
       "text": "\n{'category': u'Sports', 'rating': u'4.2', 'downloads': u' 5,000,000 - 10,000,000 ', 'rating_number': u'133,484', 'name': u'Fanatical American Football'}"
      },
      {
       "output_type": "stream",
       "stream": "stdout",
       "text": "\n{'category': u'Arcade', 'rating': u'4.5', 'downloads': u' 1,000,000 - 5,000,000 ', 'rating_number': u'176,819', 'name': u'Mini Golf MatchUp\\u2122'}"
      },
      {
       "output_type": "stream",
       "stream": "stdout",
       "text": "\n{'category': u'Personalisation', 'rating': u'4.0', 'downloads': u' 10,000 - 50,000 ', 'rating_number': u'377', 'name': u'Mobario Multi-Tasking Widget'}"
      },
      {
       "output_type": "stream",
       "stream": "stdout",
       "text": "\n{'category': u'Sports', 'rating': u'4.1', 'downloads': u' 5,000,000 - 10,000,000 ', 'rating_number': u'34,153', 'name': u'Downhill Xtreme'}"
      },
      {
       "output_type": "stream",
       "stream": "stdout",
       "text": "\n{'category': u'Trivia', 'rating': u'4.4', 'downloads': u' 1,000,000 - 5,000,000 ', 'rating_number': u'34,393', 'name': u'MoviePop'}"
      },
      {
       "output_type": "stream",
       "stream": "stdout",
       "text": "\n{'category': u'Media & Video', 'rating': u'3.6', 'downloads': u' 100,000 - 500,000 ', 'rating_number': u'1,233', 'name': u'Music Tube'}"
      },
      {
       "output_type": "stream",
       "stream": "stdout",
       "text": "\n{'category': u'Business', 'rating': u'3.9', 'downloads': u' 1,000,000 - 5,000,000 ', 'rating_number': u'8,084', 'name': u'Office Documents Viewer (Free)'}"
      },
      {
       "output_type": "stream",
       "stream": "stdout",
       "text": "\n{'category': u'Communication', 'rating': u'4.1', 'downloads': u' 1,000,000 - 5,000,000 ', 'rating_number': u'48,853', 'name': u'Palringo Group Messenger'}"
      },
      {
       "output_type": "stream",
       "stream": "stdout",
       "text": "\n{'category': u'Social', 'rating': u'4.1', 'downloads': u' 1,000,000 - 5,000,000 ', 'rating_number': u'22,751', 'name': u'Paltalk Video Chat Free'}"
      },
      {
       "output_type": "stream",
       "stream": "stdout",
       "text": "\n{'category': u'Racing', 'rating': u'3.9', 'downloads': u' 500,000 - 1,000,000 ', 'rating_number': u'3,641', 'name': u'Paper Cars BETA'}"
      },
      {
       "output_type": "stream",
       "stream": "stdout",
       "text": "\n{'category': u'Racing', 'rating': u'4.0', 'downloads': u' 5,000,000 - 10,000,000 ', 'rating_number': u'26,592', 'name': u'Parking Frenzy 2.0'}"
      },
      {
       "output_type": "stream",
       "stream": "stdout",
       "text": "\n{'category': u'Communication', 'rating': u'4.3', 'downloads': u' 1,000,000 - 5,000,000 ', 'rating_number': u'4,218', 'name': u'VMS - Video Messenger'}"
      },
      {
       "output_type": "stream",
       "stream": "stdout",
       "text": "\nNone\n{'category': u'Comics', 'rating': u'4.4', 'downloads': u' 500,000 - 1,000,000 ', 'rating_number': u'25,879', 'name': u'Pocket Manga - Manga Reader'}"
      },
      {
       "output_type": "stream",
       "stream": "stdout",
       "text": "\n{'category': u'Music & Audio', 'rating': u'4.4', 'downloads': u' 50,000,000 - 100,000,000 ', 'rating_number': u'561,970', 'name': u'TuneIn Radio'}"
      },
      {
       "output_type": "stream",
       "stream": "stdout",
       "text": "\n{'category': u'Racing', 'rating': u'4.1', 'downloads': u' 10,000,000 - 50,000,000 ', 'rating_number': u'130,641', 'name': u'Raging Thunder - FREE'}"
      },
      {
       "output_type": "stream",
       "stream": "stdout",
       "text": "\n{'category': u'Arcade', 'rating': u'4.2', 'downloads': u' 10,000,000 - 50,000,000 ', 'rating_number': u'270,376', 'name': u'Rail Rush'}"
      },
      {
       "output_type": "stream",
       "stream": "stdout",
       "text": "\n{'category': u'Sports', 'rating': u'4.4', 'downloads': u' 1,000,000 - 5,000,000 ', 'rating_number': u'239,917', 'name': u'Score! World Goals'}"
      },
      {
       "output_type": "stream",
       "stream": "stdout",
       "text": "\n{'category': u'Photography', 'rating': u'4.1', 'downloads': u' 1,000,000 - 5,000,000 ', 'rating_number': u'11,652', 'name': u\"Shape'd\"}"
      },
      {
       "output_type": "stream",
       "stream": "stdout",
       "text": "\n{'category': u'Social', 'rating': u'4.2', 'downloads': u' 10,000,000 - 50,000,000 ', 'rating_number': u'280,943', 'name': u'Skout - Meet, Chat, Friend'}"
      },
      {
       "output_type": "stream",
       "stream": "stdout",
       "text": "\n{'category': u'Travel & Local', 'rating': u'4.0', 'downloads': u' 5,000,000 - 10,000,000 ', 'rating_number': u'40,233', 'name': u'Skype WiFi'}"
      },
      {
       "output_type": "stream",
       "stream": "stdout",
       "text": "\n{'category': u'Card', 'rating': u'4.4', 'downloads': u' 50,000,000 - 100,000,000 ', 'rating_number': u'649,617', 'name': u'Solitaire'}"
      },
      {
       "output_type": "stream",
       "stream": "stdout",
       "text": "\n{'category': u'Music', 'rating': u'4.6', 'downloads': u' 10,000,000 - 50,000,000 ', 'rating_number': u'314,495', 'name': u'SongPop'}"
      },
      {
       "output_type": "stream",
       "stream": "stdout",
       "text": "\n{'category': u'Casual', 'rating': u'4.1', 'downloads': u' 50,000 - 100,000 ', 'rating_number': u'865', 'name': u'Star Defender 4 (Free)'}"
      },
      {
       "output_type": "stream",
       "stream": "stdout",
       "text": "\n{'category': u'Card', 'rating': u'4.3', 'downloads': u' 1,000,000 - 5,000,000 ', 'rating_number': u'42,882', 'name': u'Star Girl: Moda Italia'}"
      },
      {
       "output_type": "stream",
       "stream": "stdout",
       "text": "\n{'category': u'Arcade', 'rating': u'4.3', 'downloads': u' 10,000,000 - 50,000,000 ', 'rating_number': u'92,070', 'name': u'Stupid Zombies'}"
      },
      {
       "output_type": "stream",
       "stream": "stdout",
       "text": "\n{'category': u'Puzzle', 'rating': u'4.5', 'downloads': u' 10,000,000 - 50,000,000 ', 'rating_number': u'250,215', 'name': u'Sudoku Free'}"
      },
      {
       "output_type": "stream",
       "stream": "stdout",
       "text": "\n{'category': u'Social', 'rating': u'4.8', 'downloads': u' 500 - 1,000 ', 'rating_number': u'57', 'name': u'Hi VOG-Secret random chat,date'}"
      },
      {
       "output_type": "stream",
       "stream": "stdout",
       "text": "\n{'category': u'Social', 'rating': u'4.2', 'downloads': u' 10,000,000 - 50,000,000 ', 'rating_number': u'204,511', 'name': u'textPlus Free Text + Calls'}"
      },
      {
       "output_type": "stream",
       "stream": "stdout",
       "text": "\n{'category': u'News & Magazines', 'rating': u'4.2', 'downloads': u' 100,000 - 500,000 ', 'rating_number': u'1,801', 'name': u'Thai News (\\u0e02\\u0e48\\u0e32\\u0e27/\\u0e2b\\u0e19\\u0e31\\u0e07\\u0e2a\\u0e37\\u0e2d\\u0e1e\\u0e34\\u0e21\\u0e1e\\u0e4c)'}"
      },
      {
       "output_type": "stream",
       "stream": "stdout",
       "text": "\n{'category': u'Puzzle', 'rating': u'4.2', 'downloads': u' 10,000,000 - 50,000,000 ', 'rating_number': u'42,682', 'name': u'The Moron Test: Old School'}"
      },
      {
       "output_type": "stream",
       "stream": "stdout",
       "text": "\n{'category': u'Action', 'rating': u'3.7', 'downloads': u' 10,000 - 50,000 ', 'rating_number': u'443', 'name': u'HEIST The Score'}"
      },
      {
       "output_type": "stream",
       "stream": "stdout",
       "text": "\n{'category': u'Music & Audio', 'rating': u'3.9', 'downloads': u' 1,000,000 - 5,000,000 ', 'rating_number': u'27,968', 'name': u'The Voice: On Stage'}"
      },
      {
       "output_type": "stream",
       "stream": "stdout",
       "text": "\n{'category': u'Social', 'rating': u'4.2', 'downloads': u' 500,000 - 1,000,000 ', 'rating_number': u'16,243', 'name': u'Thumb'}"
      },
      {
       "output_type": "stream",
       "stream": "stdout",
       "text": "\n{'category': u'Photography', 'rating': u'4.2', 'downloads': u' 100,000 - 500,000 ', 'rating_number': u'5,147', 'name': u'Troll Face Photo Booth'}"
      },
      {
       "output_type": "stream",
       "stream": "stdout",
       "text": "\n{'category': u'Communication', 'rating': u'4.3', 'downloads': u' 10,000,000 - 50,000,000 ', 'rating_number': u'548,384', 'name': u'Truecaller - Caller ID & Block'}"
      },
      {
       "output_type": "stream",
       "stream": "stdout",
       "text": "\n{'category': u'Communication', 'rating': u'4.3', 'downloads': u' 10,000,000 - 50,000,000 ', 'rating_number': u'548,384', 'name': u'Truecaller - Caller ID & Block'}"
      },
      {
       "output_type": "stream",
       "stream": "stdout",
       "text": "\n{'category': u'Tools', 'rating': u'4.1', 'downloads': u' 100,000 - 500,000 ', 'rating_number': u'2,171', 'name': u'Ultimate Mouse Lite'}"
      },
      {
       "output_type": "stream",
       "stream": "stdout",
       "text": "\n{'category': u'Media & Video', 'rating': u'4.1', 'downloads': u' 1,000,000 - 5,000,000 ', 'rating_number': u'21,819', 'name': u'Video Tube (YouTube Player)'}"
      },
      {
       "output_type": "stream",
       "stream": "stdout",
       "text": "\n{'category': u'Casual', 'rating': u'3.5', 'downloads': u' 1,000,000 - 5,000,000 ', 'rating_number': u'31,204', 'name': u'Virtual Pet Care'}"
      },
      {
       "output_type": "stream",
       "stream": "stdout",
       "text": "\n{'category': u'Weather', 'rating': u'4.4', 'downloads': u' 10,000,000 - 50,000,000 ', 'rating_number': u'528,275', 'name': u'Weather & Clock Widget'}"
      },
      {
       "output_type": "stream",
       "stream": "stdout",
       "text": "\n{'category': u'Books & Reference', 'rating': u'4.3', 'downloads': u' 10,000,000 - 50,000,000 ', 'rating_number': u'115,872', 'name': u'Wikipedia'}"
      },
      {
       "output_type": "stream",
       "stream": "stdout",
       "text": "\n{'category': u'Arcade', 'rating': u'4.0', 'downloads': u' 100,000 - 500,000 ', 'rating_number': u'4,810', 'name': u'Wings of Glory 2014'}"
      },
      {
       "output_type": "stream",
       "stream": "stdout",
       "text": "\n{'category': u'Puzzle', 'rating': u'4.4', 'downloads': u' 500,000 - 1,000,000 ', 'rating_number': u'21,844', 'name': u'Wordly - the Word Game'}"
      },
      {
       "output_type": "stream",
       "stream": "stdout",
       "text": "\n{'category': u'Arcade', 'rating': u'4.0', 'downloads': u' 1,000,000 - 5,000,000 ', 'rating_number': u'33,289', 'name': u'Zombie Run HD'}"
      },
      {
       "output_type": "stream",
       "stream": "stdout",
       "text": "\n"
      }
     ],
     "prompt_number": 30
    },
    {
     "cell_type": "code",
     "collapsed": false,
     "input": "#Removing dicts from list for which no information was found.\nfinal_app_details = [s for s in final_app_details if s is not None]\nprint final_app_details",
     "language": "python",
     "metadata": {},
     "outputs": [
      {
       "output_type": "stream",
       "stream": "stdout",
       "text": "[{'category': u'Family', 'rating': u'4.4', 'downloads': u' 10,000,000 - 50,000,000 ', 'rating_number': u'76,361', 'name': u'2 Player Reactor (Multiplayer)'}, {'category': u'Strategy', 'rating': u'3.9', 'downloads': u' 100,000 - 500,000 ', 'rating_number': u'7,958', 'name': u'Kingdom Tactics'}, {'category': u'Tools', 'rating': u'4.5', 'downloads': u' 1,000,000 - 5,000,000 ', 'rating_number': u'58,501', 'name': u'Alarm Clock'}, {'category': u'Action', 'rating': u'4.2', 'downloads': u' 1,000,000 - 5,000,000 ', 'rating_number': u'49,874', 'name': u'Anger of Stick 3'}, {'category': u'Arcade', 'rating': u'4.3', 'downloads': u' 500,000 - 1,000,000 ', 'rating_number': u'8,730', 'name': u'Annoying Orange: Carnage Free'}, {'category': u'Social', 'rating': u'3.9', 'downloads': u' 1,000,000 - 5,000,000 ', 'rating_number': u'39,645', 'name': u'Aptoide Apps Browser'}, {'category': u'Social', 'rating': u'4.1', 'downloads': u' 100,000 - 500,000 ', 'rating_number': u'9,282', 'name': u'Atrium for Facebook'}, {'category': u'Health & Fitness', 'rating': u'4.6', 'downloads': u' 1,000,000 - 5,000,000 ', 'rating_number': u'26,462', 'name': u'BabyBump Pregnancy Free'}, {'category': u'Sports', 'rating': u'4.3', 'downloads': u' 500,000 - 1,000,000 ', 'rating_number': u'22,893', 'name': u'Badminton Smash 3D'}, {'category': u'Productivity', 'rating': u'4.5', 'downloads': u' 10,000,000 - 50,000,000 ', 'rating_number': u'1,194,529', 'name': u'Battery Doctor(Battery Saver)'}, {'category': u'Tools', 'rating': u'4.4', 'downloads': u' 10,000,000 - 50,000,000 ', 'rating_number': u'328,782', 'name': u'Flashlight HD LED'}, {'category': u'Social', 'rating': u'4.0', 'downloads': u' 1,000,000 - 5,000,000 ', 'rating_number': u'20,139', 'name': u'BoyAhoy - Gay Chat'}, {'category': u'Comics', 'rating': u'4.0', 'downloads': u' 1,000,000 - 5,000,000 ', 'rating_number': u'16,609', 'name': u'Manga Box: Manga App'}, {'category': u'Health & Fitness', 'rating': u'4.7', 'downloads': u' 10,000,000 - 50,000,000 ', 'rating_number': u'581,568', 'name': u'Calorie Counter - MyFitnessPal'}, {'category': u'Social', 'rating': u'4.1', 'downloads': u' 1,000,000 - 5,000,000 ', 'rating_number': u'46,697', 'name': u'Camfrog Video Chat'}, {'category': u'Puzzle', 'rating': u'4.1', 'downloads': u' 100,000 - 500,000 ', 'rating_number': u'541', 'name': u'Candy & Jewels'}, {'category': u'Racing', 'rating': u'4.6', 'downloads': u' 1,000,000 - 5,000,000 ', 'rating_number': u'25,770', 'name': u'Cars And Guns 3D FREE'}, {'category': u'Puzzle', 'rating': u'4.3', 'downloads': u' 10,000 - 50,000 ', 'rating_number': u'1,026', 'name': u'Chess.com Classic'}, {'category': u'Health & Fitness', 'rating': u'4.1', 'downloads': u' 1,000,000 - 5,000,000 ', 'rating_number': u'16,792', 'name': u'Daily Workouts FREE'}, {'category': u'Books & Reference', 'rating': u'4.5', 'downloads': u' 500,000 - 1,000,000 ', 'rating_number': u'5,888', 'name': u'Daily Bible Devotion'}, {'category': u'Media & Video', 'rating': u'3.8', 'downloads': u' 1,000,000 - 5,000,000 ', 'rating_number': u'36,876', 'name': u'Video Downloader - Video DL'}, {'category': u'Puzzle', 'rating': u'4.2', 'downloads': u' 10,000,000 - 50,000,000 ', 'rating_number': u'760,297', 'name': u'Draw Something Free'}, {'category': u'Sports', 'rating': u'4.4', 'downloads': u' 1,000,000 - 5,000,000 ', 'rating_number': u'210,615', 'name': u'Dream League Soccer'}, {'category': u'Casual', 'rating': u'3.4', 'downloads': u' 100,000 - 500,000 ', 'rating_number': u'5,647', 'name': u'Fashion House'}, {'category': u'Media & Video', 'rating': u'4.2', 'downloads': u' 1,000,000 - 5,000,000 ', 'rating_number': u'46,186', 'name': u'Flipps (Formerly iMediaShare)'}, {'category': u'Lifestyle', 'rating': u'4.1', 'downloads': u' 50,000 - 100,000 ', 'rating_number': u'532', 'name': u'Flurv Chat'}, {'category': u'Entertainment', 'rating': u'4.2', 'downloads': u' 1,000,000 - 5,000,000 ', 'rating_number': u'24,548', 'name': u'FML Official'}, {'category': u'Personalisation', 'rating': u'4.4', 'downloads': u' 100,000 - 500,000 ', 'rating_number': u'2,714', 'name': u'Banner'}, {'category': u'Books & Reference', 'rating': u'4.4', 'downloads': u' 5,000,000 - 10,000,000 ', 'rating_number': u'78,913', 'name': u'English Dictionary - Offline'}, {'category': u'Family', 'rating': u'3.8', 'downloads': u' 100,000 - 500,000 ', 'rating_number': u'2,192', 'name': u'Fruit Blitz'}, {'category': u'Entertainment', 'rating': u'4.3', 'downloads': u' 10,000,000 - 50,000,000 ', 'rating_number': u'64,635', 'name': u'Funny Jokes'}, {'category': u'Personalisation', 'rating': u'4.2', 'downloads': u' 1,000,000 - 5,000,000 ', 'rating_number': u'9,115', 'name': u'Funny Sound Effects Ringtones'}, {'category': u'Action', 'rating': u'4.2', 'downloads': u' 50,000 - 100,000 ', 'rating_number': u'1,769', 'name': u'Ng\\u1ecdc R\\u1ed3ng Game3'}, {'category': u'Entertainment', 'rating': u'3.6', 'downloads': u' 500,000 - 1,000,000 ', 'rating_number': u'5,941', 'name': u'Ghost Detector'}, {'category': u'Arcade', 'rating': u'4.2', 'downloads': u' 5,000,000 - 10,000,000 ', 'rating_number': u'91,032', 'name': u'Gravity Guy FREE'}, {'category': u'Communication', 'rating': u'3.9', 'downloads': u' 100,000 - 500,000 ', 'rating_number': u'1,271', 'name': u'Gtalk Notifier'}, {'category': u'Trivia', 'rating': u'4.2', 'downloads': u' 1,000,000 - 5,000,000 ', 'rating_number': u'56,194', 'name': u'Guess The Emoji - Emoji Pops'}, {'category': u'Entertainment', 'rating': u'3.6', 'downloads': u' 500 - 1,000 ', 'rating_number': u'5', 'name': u\"I'm Awesome - Free\"}, {'category': u'Communication', 'rating': u'4.2', 'downloads': u' 1,000,000 - 5,000,000 ', 'rating_number': u'80,403', 'name': u'IM+'}, {'category': u'News & Magazines', 'rating': u'4.4', 'downloads': u' 100,000 - 500,000 ', 'rating_number': u'1,981', 'name': u'Indonesia News'}, {'category': u'Entertainment', 'rating': u'4.5', 'downloads': u' 100,000 - 500,000 ', 'rating_number': u'9,180', 'name': u'9GAG First'}, {'category': u'Photography', 'rating': u'4.1', 'downloads': u' 5,000,000 - 10,000,000 ', 'rating_number': u'77,397', 'name': u'InstaSize'}, {'category': u'Music & Audio', 'rating': u'4.5', 'downloads': u' 1,000,000 - 5,000,000 ', 'rating_number': u'65,089', 'name': u'Jango Radio'}, {'category': u'Arcade', 'rating': u'4.6', 'downloads': u' 1,000,000 - 5,000,000 ', 'rating_number': u'63,177', 'name': u'Plants War'}, {'category': u'Card', 'rating': u'4.2', 'downloads': u' 100,000 - 500,000 ', 'rating_number': u'2,396', 'name': u'Kingdom Coins - Dozer of Coin'}, {'category': u'Travel & Local', 'rating': u'3.0', 'downloads': u' 50,000 - 100,000 ', 'rating_number': u'150', 'name': u'Time Out New York'}, {'category': u'Puzzle', 'rating': u'4.3', 'downloads': u' 100,000 - 500,000 ', 'rating_number': u'1,431', 'name': u'Kpop Quiz (K-pop Game)'}, {'category': u'Puzzle', 'rating': u'4.3', 'downloads': u' 5,000,000 - 10,000,000 ', 'rating_number': u'57,092', 'name': u'4 Pics 1 Song'}, {'category': u'Media & Video', 'rating': u'3.9', 'downloads': u' 1,000,000 - 5,000,000 ', 'rating_number': u'7,713', 'name': u'Listen on Repeat for Youtube'}, {'category': u'News & Magazines', 'rating': u'4.2', 'downloads': u' 100,000 - 500,000 ', 'rating_number': u'660', 'name': u'Malaysia News'}, {'category': u'Comics', 'rating': u'4.5', 'downloads': u' 1,000,000 - 5,000,000 ', 'rating_number': u'43,984', 'name': u'Manga Searcher | Manga Reader'}, {'category': u'Sports', 'rating': u'4.2', 'downloads': u' 5,000,000 - 10,000,000 ', 'rating_number': u'133,484', 'name': u'Fanatical American Football'}, {'category': u'Arcade', 'rating': u'4.5', 'downloads': u' 1,000,000 - 5,000,000 ', 'rating_number': u'176,819', 'name': u'Mini Golf MatchUp\\u2122'}, {'category': u'Personalisation', 'rating': u'4.0', 'downloads': u' 10,000 - 50,000 ', 'rating_number': u'377', 'name': u'Mobario Multi-Tasking Widget'}, {'category': u'Sports', 'rating': u'4.1', 'downloads': u' 5,000,000 - 10,000,000 ', 'rating_number': u'34,153', 'name': u'Downhill Xtreme'}, {'category': u'Trivia', 'rating': u'4.4', 'downloads': u' 1,000,000 - 5,000,000 ', 'rating_number': u'34,393', 'name': u'MoviePop'}, {'category': u'Media & Video', 'rating': u'3.6', 'downloads': u' 100,000 - 500,000 ', 'rating_number': u'1,233', 'name': u'Music Tube'}, {'category': u'Business', 'rating': u'3.9', 'downloads': u' 1,000,000 - 5,000,000 ', 'rating_number': u'8,084', 'name': u'Office Documents Viewer (Free)'}, {'category': u'Communication', 'rating': u'4.1', 'downloads': u' 1,000,000 - 5,000,000 ', 'rating_number': u'48,853', 'name': u'Palringo Group Messenger'}, {'category': u'Social', 'rating': u'4.1', 'downloads': u' 1,000,000 - 5,000,000 ', 'rating_number': u'22,751', 'name': u'Paltalk Video Chat Free'}, {'category': u'Racing', 'rating': u'3.9', 'downloads': u' 500,000 - 1,000,000 ', 'rating_number': u'3,641', 'name': u'Paper Cars BETA'}, {'category': u'Racing', 'rating': u'4.0', 'downloads': u' 5,000,000 - 10,000,000 ', 'rating_number': u'26,592', 'name': u'Parking Frenzy 2.0'}, {'category': u'Communication', 'rating': u'4.3', 'downloads': u' 1,000,000 - 5,000,000 ', 'rating_number': u'4,218', 'name': u'VMS - Video Messenger'}, {'category': u'Comics', 'rating': u'4.4', 'downloads': u' 500,000 - 1,000,000 ', 'rating_number': u'25,879', 'name': u'Pocket Manga - Manga Reader'}, {'category': u'Music & Audio', 'rating': u'4.4', 'downloads': u' 50,000,000 - 100,000,000 ', 'rating_number': u'561,970', 'name': u'TuneIn Radio'}, {'category': u'Racing', 'rating': u'4.1', 'downloads': u' 10,000,000 - 50,000,000 ', 'rating_number': u'130,641', 'name': u'Raging Thunder - FREE'}, {'category': u'Arcade', 'rating': u'4.2', 'downloads': u' 10,000,000 - 50,000,000 ', 'rating_number': u'270,376', 'name': u'Rail Rush'}, {'category': u'Sports', 'rating': u'4.4', 'downloads': u' 1,000,000 - 5,000,000 ', 'rating_number': u'239,917', 'name': u'Score! World Goals'}, {'category': u'Photography', 'rating': u'4.1', 'downloads': u' 1,000,000 - 5,000,000 ', 'rating_number': u'11,652', 'name': u\"Shape'd\"}, {'category': u'Social', 'rating': u'4.2', 'downloads': u' 10,000,000 - 50,000,000 ', 'rating_number': u'280,943', 'name': u'Skout - Meet, Chat, Friend'}, {'category': u'Travel & Local', 'rating': u'4.0', 'downloads': u' 5,000,000 - 10,000,000 ', 'rating_number': u'40,233', 'name': u'Skype WiFi'}, {'category': u'Card', 'rating': u'4.4', 'downloads': u' 50,000,000 - 100,000,000 ', 'rating_number': u'649,617', 'name': u'Solitaire'}, {'category': u'Music', 'rating': u'4.6', 'downloads': u' 10,000,000 - 50,000,000 ', 'rating_number': u'314,495', 'name': u'SongPop'}, {'category': u'Casual', 'rating': u'4.1', 'downloads': u' 50,000 - 100,000 ', 'rating_number': u'865', 'name': u'Star Defender 4 (Free)'}, {'category': u'Card', 'rating': u'4.3', 'downloads': u' 1,000,000 - 5,000,000 ', 'rating_number': u'42,882', 'name': u'Star Girl: Moda Italia'}, {'category': u'Arcade', 'rating': u'4.3', 'downloads': u' 10,000,000 - 50,000,000 ', 'rating_number': u'92,070', 'name': u'Stupid Zombies'}, {'category': u'Puzzle', 'rating': u'4.5', 'downloads': u' 10,000,000 - 50,000,000 ', 'rating_number': u'250,215', 'name': u'Sudoku Free'}, {'category': u'Social', 'rating': u'4.8', 'downloads': u' 500 - 1,000 ', 'rating_number': u'57', 'name': u'Hi VOG-Secret random chat,date'}, {'category': u'Social', 'rating': u'4.2', 'downloads': u' 10,000,000 - 50,000,000 ', 'rating_number': u'204,511', 'name': u'textPlus Free Text + Calls'}, {'category': u'News & Magazines', 'rating': u'4.2', 'downloads': u' 100,000 - 500,000 ', 'rating_number': u'1,801', 'name': u'Thai News (\\u0e02\\u0e48\\u0e32\\u0e27/\\u0e2b\\u0e19\\u0e31\\u0e07\\u0e2a\\u0e37\\u0e2d\\u0e1e\\u0e34\\u0e21\\u0e1e\\u0e4c)'}, {'category': u'Puzzle', 'rating': u'4.2', 'downloads': u' 10,000,000 - 50,000,000 ', 'rating_number': u'42,682', 'name': u'The Moron Test: Old School'}, {'category': u'Action', 'rating': u'3.7', 'downloads': u' 10,000 - 50,000 ', 'rating_number': u'443', 'name': u'HEIST The Score'}, {'category': u'Music & Audio', 'rating': u'3.9', 'downloads': u' 1,000,000 - 5,000,000 ', 'rating_number': u'27,968', 'name': u'The Voice: On Stage'}, {'category': u'Social', 'rating': u'4.2', 'downloads': u' 500,000 - 1,000,000 ', 'rating_number': u'16,243', 'name': u'Thumb'}, {'category': u'Photography', 'rating': u'4.2', 'downloads': u' 100,000 - 500,000 ', 'rating_number': u'5,147', 'name': u'Troll Face Photo Booth'}, {'category': u'Communication', 'rating': u'4.3', 'downloads': u' 10,000,000 - 50,000,000 ', 'rating_number': u'548,384', 'name': u'Truecaller - Caller ID & Block'}, {'category': u'Communication', 'rating': u'4.3', 'downloads': u' 10,000,000 - 50,000,000 ', 'rating_number': u'548,384', 'name': u'Truecaller - Caller ID & Block'}, {'category': u'Tools', 'rating': u'4.1', 'downloads': u' 100,000 - 500,000 ', 'rating_number': u'2,171', 'name': u'Ultimate Mouse Lite'}, {'category': u'Media & Video', 'rating': u'4.1', 'downloads': u' 1,000,000 - 5,000,000 ', 'rating_number': u'21,819', 'name': u'Video Tube (YouTube Player)'}, {'category': u'Casual', 'rating': u'3.5', 'downloads': u' 1,000,000 - 5,000,000 ', 'rating_number': u'31,204', 'name': u'Virtual Pet Care'}, {'category': u'Weather', 'rating': u'4.4', 'downloads': u' 10,000,000 - 50,000,000 ', 'rating_number': u'528,275', 'name': u'Weather & Clock Widget'}, {'category': u'Books & Reference', 'rating': u'4.3', 'downloads': u' 10,000,000 - 50,000,000 ', 'rating_number': u'115,872', 'name': u'Wikipedia'}, {'category': u'Arcade', 'rating': u'4.0', 'downloads': u' 100,000 - 500,000 ', 'rating_number': u'4,810', 'name': u'Wings of Glory 2014'}, {'category': u'Puzzle', 'rating': u'4.4', 'downloads': u' 500,000 - 1,000,000 ', 'rating_number': u'21,844', 'name': u'Wordly - the Word Game'}, {'category': u'Arcade', 'rating': u'4.0', 'downloads': u' 1,000,000 - 5,000,000 ', 'rating_number': u'33,289', 'name': u'Zombie Run HD'}]\n"
      }
     ],
     "prompt_number": 32
    },
    {
     "cell_type": "code",
     "collapsed": false,
     "input": "#Woohoo it works :)",
     "language": "python",
     "metadata": {},
     "outputs": []
    }
   ],
   "metadata": {}
  }
 ]
}